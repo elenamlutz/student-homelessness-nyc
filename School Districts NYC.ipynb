{
 "cells": [
  {
   "cell_type": "code",
   "execution_count": 1,
   "metadata": {},
   "outputs": [],
   "source": [
    "import pandas as pd\n",
    "import requests\n",
    "import json\n",
    "import re\n",
    "from bs4 import BeautifulSoup\n",
    "import numpy as np\n",
    "import matplotlib\n",
    "import matplotlib.pyplot as plt\n",
    "import seaborn as sns\n",
    "matplotlib.rcParams['pdf.fonttype'] = 42\n",
    "import subprocess\n",
    "from pywaffle import Waffle\n",
    "\n",
    "%matplotlib inline"
   ]
  },
  {
   "cell_type": "code",
   "execution_count": 2,
   "metadata": {},
   "outputs": [
    {
     "name": "stdout",
     "output_type": "stream",
     "text": [
      "README.md                  \u001b[34millustrator\u001b[m\u001b[m\r\n",
      "School Districts NYC.ipynb linegraph.csv\r\n",
      "counties.csv               \u001b[34mmetadata\u001b[m\u001b[m\r\n",
      "demographics.csv           \u001b[34mnode_modules\u001b[m\u001b[m\r\n",
      "\u001b[34mdist\u001b[m\u001b[m                       nyc.csv\r\n",
      "\u001b[34mdocs\u001b[m\u001b[m                       nystate.csv\r\n",
      "handlebars.config.js       package-lock.json\r\n",
      "homeless2011.xlsx          package.json\r\n",
      "homeless2012.xlsx          regentsexams.xlsx\r\n",
      "homeless2013.xlsx          scatter.csv\r\n",
      "homeless2014.xlsx          schools2019.csv\r\n",
      "homeless2015.xlsx          scores2015and2016.xlsx\r\n",
      "homeless2016.xlsx          scores2017.xlsx\r\n",
      "homeless2017.xlsx          scores2018.xlsx\r\n",
      "homeless2018.xlsx          scores2019.xlsx\r\n",
      "homeless2019.xlsx          \u001b[34msrc\u001b[m\u001b[m\r\n",
      "homelessbycounty.xlsx      \u001b[34mtemplates\u001b[m\u001b[m\r\n"
     ]
    }
   ],
   "source": [
    "!ls"
   ]
  },
  {
   "cell_type": "code",
   "execution_count": 3,
   "metadata": {},
   "outputs": [],
   "source": [
    "# Story: The social and racial makeup of NYC high school students to see if there are relationships between these \n",
    "# factors and academic achievement.\n",
    "# An NYC school district map of 2019 to show number of high school students in temp housing with scrollytelling to \n",
    "# show specific districts in Bronx and Brooklyn\n",
    "# A d3 line graph showing the increase of student homelessness by NYC county within the last decade, equipped with \n",
    "# tooltips and annotations.\n",
    "# A d3 scatterplot on number on the percentage of white students at each school vs. avg SAT Math and Reading & Writing \n",
    "# scores\n",
    "# A d3 scatterplot showing the relationship behind high schools with a higher percentage of economic need index and \n",
    "# a low percentage of white students.\n",
    "# Bubble chart on homeless students per county, each bubble representing a county, then filtering only top 10 counties\n",
    "# with higher number of homeless students, then breaking the counties by grade, then breaking them by kids at either\n",
    "# motels, shelters or no shelter (abandoned buildings, cars, parks, trailer)"
   ]
  },
  {
   "cell_type": "code",
   "execution_count": 4,
   "metadata": {},
   "outputs": [],
   "source": [
    "df = pd.read_csv(\"demographics.csv\")"
   ]
  },
  {
   "cell_type": "code",
   "execution_count": 5,
   "metadata": {},
   "outputs": [
    {
     "data": {
      "text/plain": [
       "year                                 int64\n",
       "district                             int64\n",
       "DBN                                 object\n",
       "school_name                         object\n",
       "enrollment                           int64\n",
       "avg_grade_8_english_proficiency    float64\n",
       "avg_grade_8_math_proficiency       float64\n",
       "%_ELL                              float64\n",
       "%_disability                       float64\n",
       "%_self_contained                   float64\n",
       "economic_need_index                float64\n",
       "%_temp_housing                     float64\n",
       "%_HRA_eligible                     float64\n",
       "%_asian                            float64\n",
       "%_black                            float64\n",
       "%_hispanic                         float64\n",
       "%_white                            float64\n",
       "student_attendance_rate             object\n",
       "%_chronically_absent                object\n",
       "dtype: object"
      ]
     },
     "execution_count": 5,
     "metadata": {},
     "output_type": "execute_result"
    }
   ],
   "source": [
    "df.dtypes"
   ]
  },
  {
   "cell_type": "code",
   "execution_count": 6,
   "metadata": {},
   "outputs": [],
   "source": [
    "df['%_chronically_absent'] = df['%_chronically_absent'].str.replace('^.$','0', regex=True)"
   ]
  },
  {
   "cell_type": "code",
   "execution_count": 7,
   "metadata": {},
   "outputs": [],
   "source": [
    "df['%_chronically_absent'] = df['%_chronically_absent'].astype(float)"
   ]
  },
  {
   "cell_type": "markdown",
   "metadata": {},
   "source": [
    "# High School Students, Race and Temporary Housing"
   ]
  },
  {
   "cell_type": "markdown",
   "metadata": {},
   "source": [
    "### Temporary Housing"
   ]
  },
  {
   "cell_type": "code",
   "execution_count": 8,
   "metadata": {},
   "outputs": [],
   "source": [
    "plt.rcParams[\"figure.figsize\"] = (20, 3)"
   ]
  },
  {
   "cell_type": "code",
   "execution_count": 9,
   "metadata": {},
   "outputs": [],
   "source": [
    "temp_housing = df.pivot_table(columns='district', index='year', values='%_temp_housing')"
   ]
  },
  {
   "cell_type": "code",
   "execution_count": 10,
   "metadata": {},
   "outputs": [
    {
     "data": {
      "image/png": "[encoded data removed]",
      "text/plain": [
       "<Figure size 1440x216 with 1 Axes>"
      ]
     },
     "metadata": {
      "needs_background": "light"
     },
     "output_type": "display_data"
    }
   ],
   "source": [
    "plt.pcolor(temp_housing, cmap='Blues')\n",
    "tick_labels = temp_housing.index\n",
    "tick_locations = np.arange(0.5, len(tick_labels), 1)\n",
    "tick_labels = ['2015', '2016', '2017', '2018', '2019']\n",
    "tick_locations = [0.5, 1.5,2.5,3.5, 4.5]\n",
    "tick_x_labels= ['1','2','3','4','5','6','7','8','9','10','11','12','13','14','15','16','17','18','19','20','21','22','23','24', '25', '26', '27', '28', '29','30','31','32','84']\n",
    "tick_x = np.arange(0.5, len(tick_labels), 1)\n",
    "tick_x=[0,1,2,3,4,5,6,7,8,9,10,11,12,13,14,15,16,17,18,19,20,21,22,23,24,25,26,27,28,29,30,31,32,33]\n",
    "\n",
    "\n",
    "plt.yticks(tick_locations, tick_labels)\n",
    "plt.xticks(tick_x, tick_x_labels)\n",
    "plt.tight_layout()\n",
    "# plt.savefig('homelessheatmap.pdf')"
   ]
  },
  {
   "cell_type": "code",
   "execution_count": 11,
   "metadata": {},
   "outputs": [],
   "source": [
    "df2019 = df[df.year == 2019]"
   ]
  },
  {
   "cell_type": "code",
   "execution_count": 12,
   "metadata": {
    "scrolled": true
   },
   "outputs": [],
   "source": [
    "# df2019.plot(x='%_white', y=['%_chronically_absent'], kind='scatter', figsize=(5,5))\n",
    "# plt.tight_layout()"
   ]
  },
  {
   "cell_type": "code",
   "execution_count": 13,
   "metadata": {},
   "outputs": [
    {
     "data": {
      "image/png": "[encoded data removed]",
      "text/plain": [
       "<Figure size 360x360 with 1 Axes>"
      ]
     },
     "metadata": {
      "needs_background": "light"
     },
     "output_type": "display_data"
    }
   ],
   "source": [
    "df2019.plot(x='%_white', y=['%_temp_housing'], kind='scatter', figsize=(5,5))\n",
    "plt.tight_layout()"
   ]
  },
  {
   "cell_type": "code",
   "execution_count": 14,
   "metadata": {},
   "outputs": [
    {
     "data": {
      "image/png": "[encoded data removed]",
      "text/plain": [
       "<Figure size 360x360 with 1 Axes>"
      ]
     },
     "metadata": {
      "needs_background": "light"
     },
     "output_type": "display_data"
    }
   ],
   "source": [
    "df2019.plot(x='%_asian', y=['%_temp_housing'], kind='scatter', figsize=(5,5))\n",
    "plt.tight_layout()"
   ]
  },
  {
   "cell_type": "code",
   "execution_count": 15,
   "metadata": {},
   "outputs": [],
   "source": [
    "# df2019.plot(x='%_black', y=['%_temp_housing'], kind='scatter', figsize=(5,5))\n",
    "# plt.tight_layout()"
   ]
  },
  {
   "cell_type": "markdown",
   "metadata": {},
   "source": [
    "## Analysis 2019"
   ]
  },
  {
   "cell_type": "code",
   "execution_count": 16,
   "metadata": {},
   "outputs": [
    {
     "name": "stdout",
     "output_type": "stream",
     "text": [
      "README.md                  \u001b[34millustrator\u001b[m\u001b[m\r\n",
      "School Districts NYC.ipynb linegraph.csv\r\n",
      "counties.csv               \u001b[34mmetadata\u001b[m\u001b[m\r\n",
      "demographics.csv           \u001b[34mnode_modules\u001b[m\u001b[m\r\n",
      "\u001b[34mdist\u001b[m\u001b[m                       nyc.csv\r\n",
      "\u001b[34mdocs\u001b[m\u001b[m                       nystate.csv\r\n",
      "handlebars.config.js       package-lock.json\r\n",
      "homeless2011.xlsx          package.json\r\n",
      "homeless2012.xlsx          regentsexams.xlsx\r\n",
      "homeless2013.xlsx          scatter.csv\r\n",
      "homeless2014.xlsx          schools2019.csv\r\n",
      "homeless2015.xlsx          scores2015and2016.xlsx\r\n",
      "homeless2016.xlsx          scores2017.xlsx\r\n",
      "homeless2017.xlsx          scores2018.xlsx\r\n",
      "homeless2018.xlsx          scores2019.xlsx\r\n",
      "homeless2019.xlsx          \u001b[34msrc\u001b[m\u001b[m\r\n",
      "homelessbycounty.xlsx      \u001b[34mtemplates\u001b[m\u001b[m\r\n"
     ]
    }
   ],
   "source": [
    "!ls"
   ]
  },
  {
   "cell_type": "code",
   "execution_count": 17,
   "metadata": {},
   "outputs": [],
   "source": [
    "sat_2019 = pd.read_excel('scores2019.xlsx')"
   ]
  },
  {
   "cell_type": "code",
   "execution_count": 18,
   "metadata": {},
   "outputs": [
    {
     "data": {
      "text/plain": [
       "year                                     int64\n",
       "district                                 int64\n",
       "DBN                                     object\n",
       "School Name                             object\n",
       "average_score_SAT_math                  object\n",
       "average_score_SAT_reading               object\n",
       "%_students_SAT_math_college_ready       object\n",
       "%_students_SAT_reading_college_ready    object\n",
       "dtype: object"
      ]
     },
     "execution_count": 18,
     "metadata": {},
     "output_type": "execute_result"
    }
   ],
   "source": [
    "sat_2019.dtypes"
   ]
  },
  {
   "cell_type": "code",
   "execution_count": 19,
   "metadata": {},
   "outputs": [],
   "source": [
    "sat_2019['average_score_SAT_math'] = sat_2019['average_score_SAT_math'].astype(str)\n",
    "sat_2019['average_score_SAT_reading'] = sat_2019['average_score_SAT_reading'].astype(str)\n",
    "sat_2019['%_students_SAT_math_college_ready'] = sat_2019['%_students_SAT_math_college_ready'].astype(str)\n",
    "sat_2019['%_students_SAT_reading_college_ready'] = sat_2019['%_students_SAT_reading_college_ready'].astype(str)"
   ]
  },
  {
   "cell_type": "code",
   "execution_count": 20,
   "metadata": {},
   "outputs": [],
   "source": [
    "sat_2019['average_score_SAT_math'] = sat_2019['average_score_SAT_math'].str.replace(r'^.$','0')\n",
    "sat_2019['average_score_SAT_reading'] = sat_2019['average_score_SAT_reading'].str.replace('^.$','0', regex=True)\n",
    "sat_2019['%_students_SAT_math_college_ready'] = sat_2019['%_students_SAT_math_college_ready'].str.replace('^.$','0', regex=True)\n",
    "sat_2019['%_students_SAT_reading_college_ready'] = sat_2019['%_students_SAT_reading_college_ready'].str.replace('^.$','0', regex=True)"
   ]
  },
  {
   "cell_type": "code",
   "execution_count": 21,
   "metadata": {},
   "outputs": [
    {
     "data": {
      "text/html": [
       "<div>\n",
       "<style scoped>\n",
       "    .dataframe tbody tr th:only-of-type {\n",
       "        vertical-align: middle;\n",
       "    }\n",
       "\n",
       "    .dataframe tbody tr th {\n",
       "        vertical-align: top;\n",
       "    }\n",
       "\n",
       "    .dataframe thead th {\n",
       "        text-align: right;\n",
       "    }\n",
       "</style>\n",
       "<table border=\"1\" class=\"dataframe\">\n",
       "  <thead>\n",
       "    <tr style=\"text-align: right;\">\n",
       "      <th></th>\n",
       "      <th>year</th>\n",
       "      <th>district</th>\n",
       "      <th>DBN</th>\n",
       "      <th>School Name</th>\n",
       "      <th>average_score_SAT_math</th>\n",
       "      <th>average_score_SAT_reading</th>\n",
       "      <th>%_students_SAT_math_college_ready</th>\n",
       "      <th>%_students_SAT_reading_college_ready</th>\n",
       "    </tr>\n",
       "  </thead>\n",
       "  <tbody>\n",
       "    <tr>\n",
       "      <th>0</th>\n",
       "      <td>2019</td>\n",
       "      <td>1</td>\n",
       "      <td>01M292</td>\n",
       "      <td>Orchard Collegiate Academy</td>\n",
       "      <td>448.4</td>\n",
       "      <td>438</td>\n",
       "      <td>0.107</td>\n",
       "      <td>0.179</td>\n",
       "    </tr>\n",
       "    <tr>\n",
       "      <th>1</th>\n",
       "      <td>2019</td>\n",
       "      <td>1</td>\n",
       "      <td>01M448</td>\n",
       "      <td>University Neighborhood High School</td>\n",
       "      <td>510.5</td>\n",
       "      <td>502.6</td>\n",
       "      <td>0.404</td>\n",
       "      <td>0.556</td>\n",
       "    </tr>\n",
       "    <tr>\n",
       "      <th>2</th>\n",
       "      <td>2019</td>\n",
       "      <td>1</td>\n",
       "      <td>01M450</td>\n",
       "      <td>East Side Community School</td>\n",
       "      <td>525.2</td>\n",
       "      <td>527</td>\n",
       "      <td>0.404</td>\n",
       "      <td>0.734</td>\n",
       "    </tr>\n",
       "    <tr>\n",
       "      <th>3</th>\n",
       "      <td>2019</td>\n",
       "      <td>1</td>\n",
       "      <td>01M509</td>\n",
       "      <td>Marta Valle High School</td>\n",
       "      <td>467.3</td>\n",
       "      <td>472</td>\n",
       "      <td>0.194</td>\n",
       "      <td>0.472</td>\n",
       "    </tr>\n",
       "    <tr>\n",
       "      <th>4</th>\n",
       "      <td>2019</td>\n",
       "      <td>1</td>\n",
       "      <td>01M539</td>\n",
       "      <td>New Explorations into Science, Technology and ...</td>\n",
       "      <td>679.4</td>\n",
       "      <td>646.2</td>\n",
       "      <td>0.921</td>\n",
       "      <td>0.964</td>\n",
       "    </tr>\n",
       "  </tbody>\n",
       "</table>\n",
       "</div>"
      ],
      "text/plain": [
       "   year  district     DBN                                        School Name  \\\n",
       "0  2019         1  01M292                         Orchard Collegiate Academy   \n",
       "1  2019         1  01M448                University Neighborhood High School   \n",
       "2  2019         1  01M450                         East Side Community School   \n",
       "3  2019         1  01M509                            Marta Valle High School   \n",
       "4  2019         1  01M539  New Explorations into Science, Technology and ...   \n",
       "\n",
       "  average_score_SAT_math average_score_SAT_reading  \\\n",
       "0                  448.4                       438   \n",
       "1                  510.5                     502.6   \n",
       "2                  525.2                       527   \n",
       "3                  467.3                       472   \n",
       "4                  679.4                     646.2   \n",
       "\n",
       "  %_students_SAT_math_college_ready %_students_SAT_reading_college_ready  \n",
       "0                             0.107                                0.179  \n",
       "1                             0.404                                0.556  \n",
       "2                             0.404                                0.734  \n",
       "3                             0.194                                0.472  \n",
       "4                             0.921                                0.964  "
      ]
     },
     "execution_count": 21,
     "metadata": {},
     "output_type": "execute_result"
    }
   ],
   "source": [
    "sat_2019.head()"
   ]
  },
  {
   "cell_type": "code",
   "execution_count": 22,
   "metadata": {},
   "outputs": [],
   "source": [
    "df2 = sat_2019.merge(df2019, left_on='School Name', right_on='school_name')"
   ]
  },
  {
   "cell_type": "code",
   "execution_count": 23,
   "metadata": {},
   "outputs": [],
   "source": [
    "df2=df2.apply(pd.to_numeric, errors='ignore')"
   ]
  },
  {
   "cell_type": "code",
   "execution_count": 24,
   "metadata": {},
   "outputs": [],
   "source": [
    "df2 = df2.replace(0, np.nan)"
   ]
  },
  {
   "cell_type": "code",
   "execution_count": 25,
   "metadata": {},
   "outputs": [
    {
     "data": {
      "text/plain": [
       "year_x                                    int64\n",
       "district_x                                int64\n",
       "DBN_x                                    object\n",
       "School Name                              object\n",
       "average_score_SAT_math                  float64\n",
       "average_score_SAT_reading               float64\n",
       "%_students_SAT_math_college_ready       float64\n",
       "%_students_SAT_reading_college_ready    float64\n",
       "year_y                                    int64\n",
       "district_y                                int64\n",
       "DBN_y                                    object\n",
       "school_name                              object\n",
       "enrollment                                int64\n",
       "avg_grade_8_english_proficiency         float64\n",
       "avg_grade_8_math_proficiency            float64\n",
       "%_ELL                                   float64\n",
       "%_disability                            float64\n",
       "%_self_contained                        float64\n",
       "economic_need_index                     float64\n",
       "%_temp_housing                          float64\n",
       "%_HRA_eligible                          float64\n",
       "%_asian                                 float64\n",
       "%_black                                 float64\n",
       "%_hispanic                              float64\n",
       "%_white                                 float64\n",
       "student_attendance_rate                  object\n",
       "%_chronically_absent                    float64\n",
       "dtype: object"
      ]
     },
     "execution_count": 25,
     "metadata": {},
     "output_type": "execute_result"
    }
   ],
   "source": [
    "df2.dtypes"
   ]
  },
  {
   "cell_type": "code",
   "execution_count": null,
   "metadata": {},
   "outputs": [],
   "source": []
  },
  {
   "cell_type": "code",
   "execution_count": null,
   "metadata": {},
   "outputs": [],
   "source": []
  },
  {
   "cell_type": "code",
   "execution_count": null,
   "metadata": {},
   "outputs": [],
   "source": []
  },
  {
   "cell_type": "markdown",
   "metadata": {},
   "source": [
    "## SAT Scores and Temporary Housing"
   ]
  },
  {
   "cell_type": "code",
   "execution_count": 26,
   "metadata": {},
   "outputs": [
    {
     "data": {
      "image/png": "[encoded data removed]",
      "text/plain": [
       "<Figure size 360x360 with 1 Axes>"
      ]
     },
     "metadata": {
      "needs_background": "light"
     },
     "output_type": "display_data"
    }
   ],
   "source": [
    "df2.plot(x='average_score_SAT_math', y=['%_temp_housing'], kind='scatter', figsize=(5,5))\n",
    "plt.tight_layout()"
   ]
  },
  {
   "cell_type": "code",
   "execution_count": 27,
   "metadata": {},
   "outputs": [
    {
     "data": {
      "image/png": "[encoded data removed]",
      "text/plain": [
       "<Figure size 360x360 with 1 Axes>"
      ]
     },
     "metadata": {
      "needs_background": "light"
     },
     "output_type": "display_data"
    }
   ],
   "source": [
    "df2.plot(x='average_score_SAT_reading', y=['%_temp_housing'], kind='scatter', figsize=(5,5))\n",
    "plt.tight_layout()"
   ]
  },
  {
   "cell_type": "code",
   "execution_count": 28,
   "metadata": {},
   "outputs": [
    {
     "data": {
      "text/plain": [
       "year_x                                    int64\n",
       "district_x                                int64\n",
       "DBN_x                                    object\n",
       "School Name                              object\n",
       "average_score_SAT_math                  float64\n",
       "average_score_SAT_reading               float64\n",
       "%_students_SAT_math_college_ready       float64\n",
       "%_students_SAT_reading_college_ready    float64\n",
       "year_y                                    int64\n",
       "district_y                                int64\n",
       "DBN_y                                    object\n",
       "school_name                              object\n",
       "enrollment                                int64\n",
       "avg_grade_8_english_proficiency         float64\n",
       "avg_grade_8_math_proficiency            float64\n",
       "%_ELL                                   float64\n",
       "%_disability                            float64\n",
       "%_self_contained                        float64\n",
       "economic_need_index                     float64\n",
       "%_temp_housing                          float64\n",
       "%_HRA_eligible                          float64\n",
       "%_asian                                 float64\n",
       "%_black                                 float64\n",
       "%_hispanic                              float64\n",
       "%_white                                 float64\n",
       "student_attendance_rate                  object\n",
       "%_chronically_absent                    float64\n",
       "dtype: object"
      ]
     },
     "execution_count": 28,
     "metadata": {},
     "output_type": "execute_result"
    }
   ],
   "source": [
    "df2.dtypes"
   ]
  },
  {
   "cell_type": "code",
   "execution_count": null,
   "metadata": {},
   "outputs": [],
   "source": []
  },
  {
   "cell_type": "code",
   "execution_count": 29,
   "metadata": {},
   "outputs": [],
   "source": [
    "# df2.to_csv('schools2019.csv')"
   ]
  },
  {
   "cell_type": "markdown",
   "metadata": {},
   "source": [
    "## Over 100% increase of homeless high school students in ten years"
   ]
  },
  {
   "cell_type": "code",
   "execution_count": 30,
   "metadata": {},
   "outputs": [],
   "source": [
    "counties = pd.read_excel('homelessbycounty.xlsx')"
   ]
  },
  {
   "cell_type": "code",
   "execution_count": 31,
   "metadata": {},
   "outputs": [
    {
     "data": {
      "text/plain": [
       "year\n",
       "2010    18478\n",
       "2011     6349\n",
       "2012    22622\n",
       "2013    24466\n",
       "2014    26209\n",
       "2015    27264\n",
       "2016    32131\n",
       "2017    35164\n",
       "2018    36940\n",
       "2019    36066\n",
       "Name: total_high_school, dtype: int64"
      ]
     },
     "execution_count": 31,
     "metadata": {},
     "output_type": "execute_result"
    }
   ],
   "source": [
    "counties.groupby(by=['year']).total_high_school.sum()"
   ]
  },
  {
   "cell_type": "markdown",
   "metadata": {},
   "source": [
    "### New York City vs. Rest of New York State"
   ]
  },
  {
   "cell_type": "code",
   "execution_count": 32,
   "metadata": {},
   "outputs": [],
   "source": [
    "ny_data = counties[(counties.COUNTY != 'BRONX') & (counties.COUNTY != 'RICHMOND') & (counties.COUNTY != 'QUEENS') & (counties.COUNTY != 'NEW YORK') & (counties.COUNTY != 'KINGS')]"
   ]
  },
  {
   "cell_type": "code",
   "execution_count": 33,
   "metadata": {},
   "outputs": [],
   "source": [
    "ny_data = ny_data.reset_index()"
   ]
  },
  {
   "cell_type": "code",
   "execution_count": 34,
   "metadata": {},
   "outputs": [],
   "source": [
    "ny_data = pd.DataFrame(ny_data.groupby(by=['year']).total_high_school.sum())"
   ]
  },
  {
   "cell_type": "code",
   "execution_count": 35,
   "metadata": {},
   "outputs": [],
   "source": [
    "nyc_data = counties[(counties.COUNTY == 'BRONX') | (counties.COUNTY == 'RICHMOND') | (counties.COUNTY == 'QUEENS') | (counties.COUNTY == 'NEW YORK') | (counties.COUNTY == 'KINGS')]"
   ]
  },
  {
   "cell_type": "code",
   "execution_count": 36,
   "metadata": {},
   "outputs": [],
   "source": [
    "nyc_data = pd.DataFrame(nyc_data.groupby(by=['year']).total_high_school.sum()).reset_index()"
   ]
  },
  {
   "cell_type": "code",
   "execution_count": 37,
   "metadata": {},
   "outputs": [],
   "source": [
    "df3 = ny_data.merge(nyc_data, left_on='year', right_on='year')"
   ]
  },
  {
   "cell_type": "code",
   "execution_count": 38,
   "metadata": {},
   "outputs": [],
   "source": [
    "df3 = df3[(df3.year != 2010) & (df3.year != 2011)]"
   ]
  },
  {
   "cell_type": "code",
   "execution_count": 39,
   "metadata": {},
   "outputs": [
    {
     "data": {
      "text/html": [
       "<div>\n",
       "<style scoped>\n",
       "    .dataframe tbody tr th:only-of-type {\n",
       "        vertical-align: middle;\n",
       "    }\n",
       "\n",
       "    .dataframe tbody tr th {\n",
       "        vertical-align: top;\n",
       "    }\n",
       "\n",
       "    .dataframe thead th {\n",
       "        text-align: right;\n",
       "    }\n",
       "</style>\n",
       "<table border=\"1\" class=\"dataframe\">\n",
       "  <thead>\n",
       "    <tr style=\"text-align: right;\">\n",
       "      <th></th>\n",
       "      <th>year</th>\n",
       "      <th>total_high_school_x</th>\n",
       "      <th>total_high_school_y</th>\n",
       "    </tr>\n",
       "  </thead>\n",
       "  <tbody>\n",
       "    <tr>\n",
       "      <th>2</th>\n",
       "      <td>2012</td>\n",
       "      <td>7563</td>\n",
       "      <td>15059</td>\n",
       "    </tr>\n",
       "    <tr>\n",
       "      <th>3</th>\n",
       "      <td>2013</td>\n",
       "      <td>8106</td>\n",
       "      <td>16360</td>\n",
       "    </tr>\n",
       "    <tr>\n",
       "      <th>4</th>\n",
       "      <td>2014</td>\n",
       "      <td>8031</td>\n",
       "      <td>18178</td>\n",
       "    </tr>\n",
       "    <tr>\n",
       "      <th>5</th>\n",
       "      <td>2015</td>\n",
       "      <td>8818</td>\n",
       "      <td>18446</td>\n",
       "    </tr>\n",
       "    <tr>\n",
       "      <th>6</th>\n",
       "      <td>2016</td>\n",
       "      <td>9559</td>\n",
       "      <td>22572</td>\n",
       "    </tr>\n",
       "    <tr>\n",
       "      <th>7</th>\n",
       "      <td>2017</td>\n",
       "      <td>10129</td>\n",
       "      <td>25035</td>\n",
       "    </tr>\n",
       "    <tr>\n",
       "      <th>8</th>\n",
       "      <td>2018</td>\n",
       "      <td>10573</td>\n",
       "      <td>26367</td>\n",
       "    </tr>\n",
       "    <tr>\n",
       "      <th>9</th>\n",
       "      <td>2019</td>\n",
       "      <td>9522</td>\n",
       "      <td>26544</td>\n",
       "    </tr>\n",
       "  </tbody>\n",
       "</table>\n",
       "</div>"
      ],
      "text/plain": [
       "   year  total_high_school_x  total_high_school_y\n",
       "2  2012                 7563                15059\n",
       "3  2013                 8106                16360\n",
       "4  2014                 8031                18178\n",
       "5  2015                 8818                18446\n",
       "6  2016                 9559                22572\n",
       "7  2017                10129                25035\n",
       "8  2018                10573                26367\n",
       "9  2019                 9522                26544"
      ]
     },
     "execution_count": 39,
     "metadata": {},
     "output_type": "execute_result"
    }
   ],
   "source": [
    "df3"
   ]
  },
  {
   "cell_type": "code",
   "execution_count": 40,
   "metadata": {},
   "outputs": [
    {
     "data": {
      "text/plain": [
       "<matplotlib.axes._subplots.AxesSubplot at 0x12484ab50>"
      ]
     },
     "execution_count": 40,
     "metadata": {},
     "output_type": "execute_result"
    },
    {
     "data": {
      "image/png": "[encoded data removed]",
      "text/plain": [
       "<Figure size 360x360 with 1 Axes>"
      ]
     },
     "metadata": {
      "needs_background": "light"
     },
     "output_type": "display_data"
    }
   ],
   "source": [
    "df3.plot(x='year',y=['total_high_school_x', 'total_high_school_y'], marker= 'o',figsize=(5,5))"
   ]
  },
  {
   "cell_type": "code",
   "execution_count": 41,
   "metadata": {
    "scrolled": true
   },
   "outputs": [],
   "source": [
    "nyc_data = counties[(counties.COUNTY == 'BRONX') | (counties.COUNTY == 'RICHMOND') | (counties.COUNTY == 'QUEENS') | (counties.COUNTY == 'NEW YORK') | (counties.COUNTY == 'KINGS')]"
   ]
  },
  {
   "cell_type": "code",
   "execution_count": 42,
   "metadata": {},
   "outputs": [],
   "source": [
    "nyc_data = nyc_data[(nyc_data.year != 2010) & (nyc_data.year != 2011)]"
   ]
  },
  {
   "cell_type": "code",
   "execution_count": 43,
   "metadata": {},
   "outputs": [],
   "source": [
    "nyc_counties = pd.DataFrame(nyc_data.groupby(by=['year', 'COUNTY']).total_high_school.sum()).reset_index()"
   ]
  },
  {
   "cell_type": "markdown",
   "metadata": {},
   "source": [
    "## Race, Homelessness, SAT College Readiness by district"
   ]
  },
  {
   "cell_type": "code",
   "execution_count": 44,
   "metadata": {},
   "outputs": [],
   "source": [
    "df2 = df2.drop(['year_y', 'district_y', 'DBN_y', 'school_name'], axis=1).rename(columns={'year_x': 'year', 'district_x': 'district', 'DBN_x': 'DBN'})"
   ]
  },
  {
   "cell_type": "code",
   "execution_count": 45,
   "metadata": {},
   "outputs": [
    {
     "data": {
      "text/html": [
       "<div>\n",
       "<style scoped>\n",
       "    .dataframe tbody tr th:only-of-type {\n",
       "        vertical-align: middle;\n",
       "    }\n",
       "\n",
       "    .dataframe tbody tr th {\n",
       "        vertical-align: top;\n",
       "    }\n",
       "\n",
       "    .dataframe thead th {\n",
       "        text-align: right;\n",
       "    }\n",
       "</style>\n",
       "<table border=\"1\" class=\"dataframe\">\n",
       "  <thead>\n",
       "    <tr style=\"text-align: right;\">\n",
       "      <th></th>\n",
       "      <th>year</th>\n",
       "      <th>district</th>\n",
       "      <th>DBN</th>\n",
       "      <th>School Name</th>\n",
       "      <th>average_score_SAT_math</th>\n",
       "      <th>average_score_SAT_reading</th>\n",
       "      <th>%_students_SAT_math_college_ready</th>\n",
       "      <th>%_students_SAT_reading_college_ready</th>\n",
       "      <th>enrollment</th>\n",
       "      <th>avg_grade_8_english_proficiency</th>\n",
       "      <th>...</th>\n",
       "      <th>%_self_contained</th>\n",
       "      <th>economic_need_index</th>\n",
       "      <th>%_temp_housing</th>\n",
       "      <th>%_HRA_eligible</th>\n",
       "      <th>%_asian</th>\n",
       "      <th>%_black</th>\n",
       "      <th>%_hispanic</th>\n",
       "      <th>%_white</th>\n",
       "      <th>student_attendance_rate</th>\n",
       "      <th>%_chronically_absent</th>\n",
       "    </tr>\n",
       "  </thead>\n",
       "  <tbody>\n",
       "    <tr>\n",
       "      <th>0</th>\n",
       "      <td>2019</td>\n",
       "      <td>1</td>\n",
       "      <td>01M292</td>\n",
       "      <td>Orchard Collegiate Academy</td>\n",
       "      <td>448.4</td>\n",
       "      <td>438.0</td>\n",
       "      <td>0.107</td>\n",
       "      <td>0.179</td>\n",
       "      <td>197</td>\n",
       "      <td>2.70</td>\n",
       "      <td>...</td>\n",
       "      <td>0.005</td>\n",
       "      <td>0.87</td>\n",
       "      <td>0.183</td>\n",
       "      <td>0.782</td>\n",
       "      <td>0.096</td>\n",
       "      <td>0.269</td>\n",
       "      <td>0.569</td>\n",
       "      <td>0.030</td>\n",
       "      <td>0.917</td>\n",
       "      <td>0.289</td>\n",
       "    </tr>\n",
       "    <tr>\n",
       "      <th>1</th>\n",
       "      <td>2019</td>\n",
       "      <td>1</td>\n",
       "      <td>01M448</td>\n",
       "      <td>University Neighborhood High School</td>\n",
       "      <td>510.5</td>\n",
       "      <td>502.6</td>\n",
       "      <td>0.404</td>\n",
       "      <td>0.556</td>\n",
       "      <td>483</td>\n",
       "      <td>2.97</td>\n",
       "      <td>...</td>\n",
       "      <td>NaN</td>\n",
       "      <td>0.83</td>\n",
       "      <td>0.180</td>\n",
       "      <td>0.723</td>\n",
       "      <td>0.369</td>\n",
       "      <td>0.195</td>\n",
       "      <td>0.383</td>\n",
       "      <td>0.046</td>\n",
       "      <td>0.909</td>\n",
       "      <td>0.274</td>\n",
       "    </tr>\n",
       "    <tr>\n",
       "      <th>2</th>\n",
       "      <td>2019</td>\n",
       "      <td>1</td>\n",
       "      <td>01M450</td>\n",
       "      <td>East Side Community School</td>\n",
       "      <td>525.2</td>\n",
       "      <td>527.0</td>\n",
       "      <td>0.404</td>\n",
       "      <td>0.734</td>\n",
       "      <td>370</td>\n",
       "      <td>3.07</td>\n",
       "      <td>...</td>\n",
       "      <td>NaN</td>\n",
       "      <td>0.68</td>\n",
       "      <td>0.084</td>\n",
       "      <td>0.541</td>\n",
       "      <td>0.130</td>\n",
       "      <td>0.192</td>\n",
       "      <td>0.522</td>\n",
       "      <td>0.124</td>\n",
       "      <td>0.938</td>\n",
       "      <td>0.146</td>\n",
       "    </tr>\n",
       "    <tr>\n",
       "      <th>3</th>\n",
       "      <td>2019</td>\n",
       "      <td>1</td>\n",
       "      <td>01M509</td>\n",
       "      <td>Marta Valle High School</td>\n",
       "      <td>467.3</td>\n",
       "      <td>472.0</td>\n",
       "      <td>0.194</td>\n",
       "      <td>0.472</td>\n",
       "      <td>127</td>\n",
       "      <td>2.79</td>\n",
       "      <td>...</td>\n",
       "      <td>0.047</td>\n",
       "      <td>0.81</td>\n",
       "      <td>0.134</td>\n",
       "      <td>0.740</td>\n",
       "      <td>0.071</td>\n",
       "      <td>0.370</td>\n",
       "      <td>0.512</td>\n",
       "      <td>0.024</td>\n",
       "      <td>0.796</td>\n",
       "      <td>0.628</td>\n",
       "    </tr>\n",
       "    <tr>\n",
       "      <th>4</th>\n",
       "      <td>2019</td>\n",
       "      <td>1</td>\n",
       "      <td>01M539</td>\n",
       "      <td>New Explorations into Science, Technology and ...</td>\n",
       "      <td>679.4</td>\n",
       "      <td>646.2</td>\n",
       "      <td>0.921</td>\n",
       "      <td>0.964</td>\n",
       "      <td>615</td>\n",
       "      <td>3.70</td>\n",
       "      <td>...</td>\n",
       "      <td>0.002</td>\n",
       "      <td>0.40</td>\n",
       "      <td>0.020</td>\n",
       "      <td>0.285</td>\n",
       "      <td>0.268</td>\n",
       "      <td>0.124</td>\n",
       "      <td>0.187</td>\n",
       "      <td>0.390</td>\n",
       "      <td>0.952</td>\n",
       "      <td>0.096</td>\n",
       "    </tr>\n",
       "  </tbody>\n",
       "</table>\n",
       "<p>5 rows × 23 columns</p>\n",
       "</div>"
      ],
      "text/plain": [
       "   year  district     DBN                                        School Name  \\\n",
       "0  2019         1  01M292                         Orchard Collegiate Academy   \n",
       "1  2019         1  01M448                University Neighborhood High School   \n",
       "2  2019         1  01M450                         East Side Community School   \n",
       "3  2019         1  01M509                            Marta Valle High School   \n",
       "4  2019         1  01M539  New Explorations into Science, Technology and ...   \n",
       "\n",
       "   average_score_SAT_math  average_score_SAT_reading  \\\n",
       "0                   448.4                      438.0   \n",
       "1                   510.5                      502.6   \n",
       "2                   525.2                      527.0   \n",
       "3                   467.3                      472.0   \n",
       "4                   679.4                      646.2   \n",
       "\n",
       "   %_students_SAT_math_college_ready  %_students_SAT_reading_college_ready  \\\n",
       "0                              0.107                                 0.179   \n",
       "1                              0.404                                 0.556   \n",
       "2                              0.404                                 0.734   \n",
       "3                              0.194                                 0.472   \n",
       "4                              0.921                                 0.964   \n",
       "\n",
       "   enrollment  avg_grade_8_english_proficiency  ...  %_self_contained  \\\n",
       "0         197                             2.70  ...             0.005   \n",
       "1         483                             2.97  ...               NaN   \n",
       "2         370                             3.07  ...               NaN   \n",
       "3         127                             2.79  ...             0.047   \n",
       "4         615                             3.70  ...             0.002   \n",
       "\n",
       "   economic_need_index  %_temp_housing  %_HRA_eligible  %_asian  %_black  \\\n",
       "0                 0.87           0.183           0.782    0.096    0.269   \n",
       "1                 0.83           0.180           0.723    0.369    0.195   \n",
       "2                 0.68           0.084           0.541    0.130    0.192   \n",
       "3                 0.81           0.134           0.740    0.071    0.370   \n",
       "4                 0.40           0.020           0.285    0.268    0.124   \n",
       "\n",
       "   %_hispanic  %_white  student_attendance_rate  %_chronically_absent  \n",
       "0       0.569    0.030                    0.917                 0.289  \n",
       "1       0.383    0.046                    0.909                 0.274  \n",
       "2       0.522    0.124                    0.938                 0.146  \n",
       "3       0.512    0.024                    0.796                 0.628  \n",
       "4       0.187    0.390                    0.952                 0.096  \n",
       "\n",
       "[5 rows x 23 columns]"
      ]
     },
     "execution_count": 45,
     "metadata": {},
     "output_type": "execute_result"
    }
   ],
   "source": [
    "df2.head()"
   ]
  },
  {
   "cell_type": "code",
   "execution_count": 46,
   "metadata": {},
   "outputs": [],
   "source": [
    "df2['asian_count'] = df2['enrollment'] * df2['%_asian']\n",
    "df2['white_count'] = df2['enrollment'] * df2['%_white']\n",
    "df2['black_count'] = df2['enrollment'] * df2['%_black']\n",
    "df2['hispanic_count'] = df2['enrollment'] * df2['%_hispanic']\n",
    "df2['homeless_count'] = df2['enrollment'] * df2['%_temp_housing']\n",
    "df2['sat_math_college_ready_count'] = df2['enrollment'] * df2['%_students_SAT_math_college_ready']\n",
    "df2['sat_reading_college_ready_count'] = df2['enrollment'] * df2['%_students_SAT_reading_college_ready']\n",
    "df2['sat_score'] = df2['average_score_SAT_math'] + df2['average_score_SAT_reading']"
   ]
  },
  {
   "cell_type": "code",
   "execution_count": 47,
   "metadata": {},
   "outputs": [],
   "source": [
    "df2['%_non_white'] = ((df2['black_count'] + df2['hispanic_count']) * 100) / df2['enrollment']"
   ]
  },
  {
   "cell_type": "code",
   "execution_count": 48,
   "metadata": {},
   "outputs": [
    {
     "data": {
      "image/png": "[encoded data removed]",
      "text/plain": [
       "<Figure size 360x360 with 1 Axes>"
      ]
     },
     "metadata": {
      "needs_background": "light"
     },
     "output_type": "display_data"
    }
   ],
   "source": [
    "df2.plot(x='%_non_white', y=['%_temp_housing'], kind='scatter', figsize=(5,5))\n",
    "plt.tight_layout()"
   ]
  },
  {
   "cell_type": "code",
   "execution_count": 49,
   "metadata": {},
   "outputs": [],
   "source": [
    "df2 = df2[df2.district != 84]"
   ]
  },
  {
   "cell_type": "code",
   "execution_count": 54,
   "metadata": {},
   "outputs": [
    {
     "data": {
      "text/plain": [
       "950.7247596153846"
      ]
     },
     "execution_count": 54,
     "metadata": {},
     "output_type": "execute_result"
    }
   ],
   "source": [
    "df2.sat_score.mean()"
   ]
  },
  {
   "cell_type": "code",
   "execution_count": 104,
   "metadata": {},
   "outputs": [],
   "source": [
    "df2.to_csv('scatter.csv')"
   ]
  },
  {
   "cell_type": "code",
   "execution_count": 56,
   "metadata": {},
   "outputs": [],
   "source": [
    "districts = pd.pivot_table(df2, index='district', values = ['enrollment', 'homeless_count', 'sat_math_college_ready_count', 'sat_reading_college_ready_count', 'asian_count', 'white_count', 'black_count', 'hispanic_count'], aggfunc=sum).reset_index()"
   ]
  },
  {
   "cell_type": "code",
   "execution_count": 57,
   "metadata": {},
   "outputs": [],
   "source": [
    "districts['pct_asian'] = (districts['asian_count'] / districts['enrollment']) * 100\n",
    "districts['pct_white'] = (districts['white_count'] / districts['enrollment']) * 100\n",
    "districts['pct_black'] = (districts['black_count'] / districts['enrollment']) * 100\n",
    "districts['pct_hispanic'] = (districts['hispanic_count'] / districts['enrollment']) * 100\n",
    "districts['pct_homeless'] = (districts['homeless_count'] / districts['enrollment']) * 100\n",
    "districts['pct_college_ready_math_SAT'] = (districts['sat_math_college_ready_count'] / districts['enrollment']) * 100\n",
    "districts['pct_college_ready_reading_SAT'] = (districts['sat_reading_college_ready_count'] / districts['enrollment']) * 100"
   ]
  },
  {
   "cell_type": "code",
   "execution_count": 58,
   "metadata": {},
   "outputs": [],
   "source": [
    "sat_math_scores = pd.DataFrame(df2.groupby(by='district').average_score_SAT_math.mean()).reset_index()\n",
    "sat_reading_scores = pd.DataFrame(df2.groupby(by='district').average_score_SAT_reading.mean()).reset_index()\n",
    "sat_overall_scores = pd.DataFrame(df2.groupby(by='district').sat_score.mean()).reset_index()"
   ]
  },
  {
   "cell_type": "code",
   "execution_count": 59,
   "metadata": {},
   "outputs": [],
   "source": [
    "districts = sat_math_scores.merge(districts, left_on='district', right_on='district')"
   ]
  },
  {
   "cell_type": "code",
   "execution_count": 60,
   "metadata": {},
   "outputs": [],
   "source": [
    "districts = sat_reading_scores.merge(districts, left_on='district', right_on='district')"
   ]
  },
  {
   "cell_type": "code",
   "execution_count": 61,
   "metadata": {},
   "outputs": [],
   "source": [
    "districts = sat_overall_scores.merge(districts, left_on='district', right_on='district')"
   ]
  },
  {
   "cell_type": "code",
   "execution_count": 62,
   "metadata": {},
   "outputs": [],
   "source": [
    "top10 = districts.sort_values(by='pct_homeless', ascending=False).reset_index().head(10)"
   ]
  },
  {
   "cell_type": "code",
   "execution_count": 63,
   "metadata": {},
   "outputs": [
    {
     "data": {
      "image/png": "[encoded data removed]",
      "text/plain": [
       "<Figure size 360x360 with 1 Axes>"
      ]
     },
     "metadata": {
      "needs_background": "light"
     },
     "output_type": "display_data"
    }
   ],
   "source": [
    "top10.sort_values(by='pct_hispanic').plot(x='district', y=['pct_white', 'pct_asian', 'pct_black','pct_hispanic'], kind = 'barh', stacked=True, figsize=(5,5))\n",
    "plt.tight_layout()"
   ]
  },
  {
   "cell_type": "code",
   "execution_count": 64,
   "metadata": {},
   "outputs": [],
   "source": [
    "districts['pct_non_white'] = ((districts['hispanic_count'] + districts['black_count']) * 100) / districts['enrollment']"
   ]
  },
  {
   "cell_type": "code",
   "execution_count": 65,
   "metadata": {},
   "outputs": [],
   "source": [
    "plt.rcParams[\"figure.figsize\"] = (5, 5)"
   ]
  },
  {
   "cell_type": "code",
   "execution_count": 66,
   "metadata": {},
   "outputs": [
    {
     "data": {
      "image/png": "[encoded data removed]",
      "text/plain": [
       "<Figure size 360x360 with 1 Axes>"
      ]
     },
     "metadata": {
      "needs_background": "light"
     },
     "output_type": "display_data"
    }
   ],
   "source": [
    "x=districts['sat_score']\n",
    "y=districts['pct_homeless']\n",
    "s=districts['pct_white']\n",
    "plt.scatter(x, y, s=s*25, alpha=0.5)\n",
    "plt.show()"
   ]
  },
  {
   "cell_type": "code",
   "execution_count": 67,
   "metadata": {},
   "outputs": [
    {
     "data": {
      "image/png": "[encoded data removed]",
      "text/plain": [
       "<Figure size 360x360 with 1 Axes>"
      ]
     },
     "metadata": {
      "needs_background": "light"
     },
     "output_type": "display_data"
    }
   ],
   "source": [
    "x=districts['average_score_SAT_reading']\n",
    "y=districts['pct_homeless']\n",
    "s=districts['pct_white']\n",
    "plt.scatter(x, y, s*20, alpha=0.5)\n",
    "plt.show()"
   ]
  },
  {
   "cell_type": "code",
   "execution_count": 125,
   "metadata": {},
   "outputs": [
    {
     "data": {
      "text/plain": [
       "district                             int64\n",
       "sat_score                          float64\n",
       "average_score_SAT_reading          float64\n",
       "average_score_SAT_math             float64\n",
       "asian_count                        float64\n",
       "black_count                        float64\n",
       "enrollment                           int64\n",
       "hispanic_count                     float64\n",
       "homeless_count                     float64\n",
       "sat_math_college_ready_count       float64\n",
       "sat_reading_college_ready_count    float64\n",
       "white_count                        float64\n",
       "pct_asian                          float64\n",
       "pct_white                          float64\n",
       "pct_black                          float64\n",
       "pct_hispanic                       float64\n",
       "pct_homeless                       float64\n",
       "pct_college_ready_math_SAT         float64\n",
       "pct_college_ready_reading_SAT      float64\n",
       "pct_non_white                      float64\n",
       "dtype: object"
      ]
     },
     "execution_count": 125,
     "metadata": {},
     "output_type": "execute_result"
    }
   ],
   "source": [
    "districts.dtypes"
   ]
  },
  {
   "cell_type": "code",
   "execution_count": 129,
   "metadata": {},
   "outputs": [
    {
     "data": {
      "text/html": [
       "<div>\n",
       "<style scoped>\n",
       "    .dataframe tbody tr th:only-of-type {\n",
       "        vertical-align: middle;\n",
       "    }\n",
       "\n",
       "    .dataframe tbody tr th {\n",
       "        vertical-align: top;\n",
       "    }\n",
       "\n",
       "    .dataframe thead th {\n",
       "        text-align: right;\n",
       "    }\n",
       "</style>\n",
       "<table border=\"1\" class=\"dataframe\">\n",
       "  <thead>\n",
       "    <tr style=\"text-align: right;\">\n",
       "      <th></th>\n",
       "      <th>district</th>\n",
       "      <th>sat_score</th>\n",
       "      <th>average_score_SAT_reading</th>\n",
       "      <th>average_score_SAT_math</th>\n",
       "      <th>asian_count</th>\n",
       "      <th>black_count</th>\n",
       "      <th>enrollment</th>\n",
       "      <th>hispanic_count</th>\n",
       "      <th>homeless_count</th>\n",
       "      <th>sat_math_college_ready_count</th>\n",
       "      <th>sat_reading_college_ready_count</th>\n",
       "      <th>white_count</th>\n",
       "      <th>pct_asian</th>\n",
       "      <th>pct_white</th>\n",
       "      <th>pct_black</th>\n",
       "      <th>pct_hispanic</th>\n",
       "      <th>pct_homeless</th>\n",
       "      <th>pct_college_ready_math_SAT</th>\n",
       "      <th>pct_college_ready_reading_SAT</th>\n",
       "      <th>pct_non_white</th>\n",
       "    </tr>\n",
       "  </thead>\n",
       "  <tbody>\n",
       "    <tr>\n",
       "      <th>5</th>\n",
       "      <td>6</td>\n",
       "      <td>901.050000</td>\n",
       "      <td>448.830000</td>\n",
       "      <td>452.220000</td>\n",
       "      <td>111.382</td>\n",
       "      <td>718.973</td>\n",
       "      <td>5327</td>\n",
       "      <td>4360.282</td>\n",
       "      <td>1147.090</td>\n",
       "      <td>1001.215</td>\n",
       "      <td>1772.339</td>\n",
       "      <td>89.870</td>\n",
       "      <td>2.090895</td>\n",
       "      <td>1.687066</td>\n",
       "      <td>13.496771</td>\n",
       "      <td>81.852487</td>\n",
       "      <td>21.533509</td>\n",
       "      <td>18.795100</td>\n",
       "      <td>33.270865</td>\n",
       "      <td>95.349258</td>\n",
       "    </tr>\n",
       "    <tr>\n",
       "      <th>6</th>\n",
       "      <td>7</td>\n",
       "      <td>882.885714</td>\n",
       "      <td>443.678571</td>\n",
       "      <td>439.207143</td>\n",
       "      <td>93.981</td>\n",
       "      <td>1612.146</td>\n",
       "      <td>6021</td>\n",
       "      <td>4134.204</td>\n",
       "      <td>1040.763</td>\n",
       "      <td>716.163</td>\n",
       "      <td>1554.872</td>\n",
       "      <td>90.644</td>\n",
       "      <td>1.560887</td>\n",
       "      <td>1.505464</td>\n",
       "      <td>26.775386</td>\n",
       "      <td>68.663079</td>\n",
       "      <td>17.285551</td>\n",
       "      <td>11.894420</td>\n",
       "      <td>25.824149</td>\n",
       "      <td>95.438465</td>\n",
       "    </tr>\n",
       "    <tr>\n",
       "      <th>8</th>\n",
       "      <td>9</td>\n",
       "      <td>895.386364</td>\n",
       "      <td>449.931818</td>\n",
       "      <td>445.454545</td>\n",
       "      <td>169.025</td>\n",
       "      <td>2130.905</td>\n",
       "      <td>7975</td>\n",
       "      <td>5462.407</td>\n",
       "      <td>1665.467</td>\n",
       "      <td>1178.807</td>\n",
       "      <td>2334.619</td>\n",
       "      <td>126.107</td>\n",
       "      <td>2.119436</td>\n",
       "      <td>1.581279</td>\n",
       "      <td>26.719812</td>\n",
       "      <td>68.494132</td>\n",
       "      <td>20.883599</td>\n",
       "      <td>14.781279</td>\n",
       "      <td>29.274219</td>\n",
       "      <td>95.213944</td>\n",
       "    </tr>\n",
       "    <tr>\n",
       "      <th>11</th>\n",
       "      <td>12</td>\n",
       "      <td>856.761538</td>\n",
       "      <td>429.576923</td>\n",
       "      <td>427.184615</td>\n",
       "      <td>121.996</td>\n",
       "      <td>1222.808</td>\n",
       "      <td>5043</td>\n",
       "      <td>3544.390</td>\n",
       "      <td>944.218</td>\n",
       "      <td>398.122</td>\n",
       "      <td>973.311</td>\n",
       "      <td>80.390</td>\n",
       "      <td>2.419116</td>\n",
       "      <td>1.594091</td>\n",
       "      <td>24.247630</td>\n",
       "      <td>70.283363</td>\n",
       "      <td>18.723339</td>\n",
       "      <td>7.894547</td>\n",
       "      <td>19.300238</td>\n",
       "      <td>94.530993</td>\n",
       "    </tr>\n",
       "    <tr>\n",
       "      <th>22</th>\n",
       "      <td>23</td>\n",
       "      <td>876.400000</td>\n",
       "      <td>443.375000</td>\n",
       "      <td>433.025000</td>\n",
       "      <td>14.085</td>\n",
       "      <td>802.975</td>\n",
       "      <td>940</td>\n",
       "      <td>105.930</td>\n",
       "      <td>161.150</td>\n",
       "      <td>98.143</td>\n",
       "      <td>265.005</td>\n",
       "      <td>6.947</td>\n",
       "      <td>1.498404</td>\n",
       "      <td>0.739043</td>\n",
       "      <td>85.422872</td>\n",
       "      <td>11.269149</td>\n",
       "      <td>17.143617</td>\n",
       "      <td>10.440745</td>\n",
       "      <td>28.192021</td>\n",
       "      <td>96.692021</td>\n",
       "    </tr>\n",
       "  </tbody>\n",
       "</table>\n",
       "</div>"
      ],
      "text/plain": [
       "    district   sat_score  average_score_SAT_reading  average_score_SAT_math  \\\n",
       "5          6  901.050000                 448.830000              452.220000   \n",
       "6          7  882.885714                 443.678571              439.207143   \n",
       "8          9  895.386364                 449.931818              445.454545   \n",
       "11        12  856.761538                 429.576923              427.184615   \n",
       "22        23  876.400000                 443.375000              433.025000   \n",
       "\n",
       "    asian_count  black_count  enrollment  hispanic_count  homeless_count  \\\n",
       "5       111.382      718.973        5327        4360.282        1147.090   \n",
       "6        93.981     1612.146        6021        4134.204        1040.763   \n",
       "8       169.025     2130.905        7975        5462.407        1665.467   \n",
       "11      121.996     1222.808        5043        3544.390         944.218   \n",
       "22       14.085      802.975         940         105.930         161.150   \n",
       "\n",
       "    sat_math_college_ready_count  sat_reading_college_ready_count  \\\n",
       "5                       1001.215                         1772.339   \n",
       "6                        716.163                         1554.872   \n",
       "8                       1178.807                         2334.619   \n",
       "11                       398.122                          973.311   \n",
       "22                        98.143                          265.005   \n",
       "\n",
       "    white_count  pct_asian  pct_white  pct_black  pct_hispanic  pct_homeless  \\\n",
       "5        89.870   2.090895   1.687066  13.496771     81.852487     21.533509   \n",
       "6        90.644   1.560887   1.505464  26.775386     68.663079     17.285551   \n",
       "8       126.107   2.119436   1.581279  26.719812     68.494132     20.883599   \n",
       "11       80.390   2.419116   1.594091  24.247630     70.283363     18.723339   \n",
       "22        6.947   1.498404   0.739043  85.422872     11.269149     17.143617   \n",
       "\n",
       "    pct_college_ready_math_SAT  pct_college_ready_reading_SAT  pct_non_white  \n",
       "5                    18.795100                      33.270865      95.349258  \n",
       "6                    11.894420                      25.824149      95.438465  \n",
       "8                    14.781279                      29.274219      95.213944  \n",
       "11                    7.894547                      19.300238      94.530993  \n",
       "22                   10.440745                      28.192021      96.692021  "
      ]
     },
     "execution_count": 129,
     "metadata": {},
     "output_type": "execute_result"
    }
   ],
   "source": []
  },
  {
   "cell_type": "code",
   "execution_count": 114,
   "metadata": {},
   "outputs": [],
   "source": [
    "# districts.to_csv('districts.csv')"
   ]
  },
  {
   "cell_type": "code",
   "execution_count": 71,
   "metadata": {},
   "outputs": [],
   "source": [
    "multiples = districts[['district', 'pct_asian', 'pct_white', 'pct_black', 'pct_hispanic']]"
   ]
  },
  {
   "cell_type": "code",
   "execution_count": 97,
   "metadata": {},
   "outputs": [
    {
     "name": "stderr",
     "output_type": "stream",
     "text": [
      "/Users/elenamlutz/.pyenv/versions/3.7.5/lib/python3.7/site-packages/ipykernel_launcher.py:1: SettingWithCopyWarning: \n",
      "A value is trying to be set on a copy of a slice from a DataFrame.\n",
      "Try using .loc[row_indexer,col_indexer] = value instead\n",
      "\n",
      "See the caveats in the documentation: http://pandas.pydata.org/pandas-docs/stable/user_guide/indexing.html#returning-a-view-versus-a-copy\n",
      "  \"\"\"Entry point for launching an IPython kernel.\n"
     ]
    }
   ],
   "source": [
    "multiples['other_unidentified'] = multiples.iloc[:, 1:5].sum(axis=1)"
   ]
  },
  {
   "cell_type": "code",
   "execution_count": 99,
   "metadata": {},
   "outputs": [
    {
     "name": "stderr",
     "output_type": "stream",
     "text": [
      "/Users/elenamlutz/.pyenv/versions/3.7.5/lib/python3.7/site-packages/ipykernel_launcher.py:1: SettingWithCopyWarning: \n",
      "A value is trying to be set on a copy of a slice from a DataFrame.\n",
      "Try using .loc[row_indexer,col_indexer] = value instead\n",
      "\n",
      "See the caveats in the documentation: http://pandas.pydata.org/pandas-docs/stable/user_guide/indexing.html#returning-a-view-versus-a-copy\n",
      "  \"\"\"Entry point for launching an IPython kernel.\n"
     ]
    }
   ],
   "source": [
    "multiples['other_unidentified'] = 100 - multiples['other_unidentified']"
   ]
  },
  {
   "cell_type": "code",
   "execution_count": 100,
   "metadata": {},
   "outputs": [
    {
     "data": {
      "text/html": [
       "<div>\n",
       "<style scoped>\n",
       "    .dataframe tbody tr th:only-of-type {\n",
       "        vertical-align: middle;\n",
       "    }\n",
       "\n",
       "    .dataframe tbody tr th {\n",
       "        vertical-align: top;\n",
       "    }\n",
       "\n",
       "    .dataframe thead th {\n",
       "        text-align: right;\n",
       "    }\n",
       "</style>\n",
       "<table border=\"1\" class=\"dataframe\">\n",
       "  <thead>\n",
       "    <tr style=\"text-align: right;\">\n",
       "      <th></th>\n",
       "      <th>district</th>\n",
       "      <th>pct_asian</th>\n",
       "      <th>pct_white</th>\n",
       "      <th>pct_black</th>\n",
       "      <th>pct_hispanic</th>\n",
       "      <th>other_unidentified</th>\n",
       "    </tr>\n",
       "  </thead>\n",
       "  <tbody>\n",
       "    <tr>\n",
       "      <th>0</th>\n",
       "      <td>1</td>\n",
       "      <td>24.897009</td>\n",
       "      <td>23.335106</td>\n",
       "      <td>17.022559</td>\n",
       "      <td>32.215039</td>\n",
       "      <td>2.530287</td>\n",
       "    </tr>\n",
       "    <tr>\n",
       "      <th>1</th>\n",
       "      <td>2</td>\n",
       "      <td>18.316034</td>\n",
       "      <td>14.216959</td>\n",
       "      <td>19.360548</td>\n",
       "      <td>45.118129</td>\n",
       "      <td>2.988329</td>\n",
       "    </tr>\n",
       "    <tr>\n",
       "      <th>2</th>\n",
       "      <td>3</td>\n",
       "      <td>11.156857</td>\n",
       "      <td>29.248350</td>\n",
       "      <td>20.462306</td>\n",
       "      <td>33.199587</td>\n",
       "      <td>5.932900</td>\n",
       "    </tr>\n",
       "    <tr>\n",
       "      <th>3</th>\n",
       "      <td>4</td>\n",
       "      <td>13.856037</td>\n",
       "      <td>4.409807</td>\n",
       "      <td>20.923214</td>\n",
       "      <td>58.804422</td>\n",
       "      <td>2.006519</td>\n",
       "    </tr>\n",
       "    <tr>\n",
       "      <th>4</th>\n",
       "      <td>5</td>\n",
       "      <td>6.734138</td>\n",
       "      <td>8.915876</td>\n",
       "      <td>47.077938</td>\n",
       "      <td>33.048306</td>\n",
       "      <td>4.223741</td>\n",
       "    </tr>\n",
       "  </tbody>\n",
       "</table>\n",
       "</div>"
      ],
      "text/plain": [
       "   district  pct_asian  pct_white  pct_black  pct_hispanic  other_unidentified\n",
       "0         1  24.897009  23.335106  17.022559     32.215039            2.530287\n",
       "1         2  18.316034  14.216959  19.360548     45.118129            2.988329\n",
       "2         3  11.156857  29.248350  20.462306     33.199587            5.932900\n",
       "3         4  13.856037   4.409807  20.923214     58.804422            2.006519\n",
       "4         5   6.734138   8.915876  47.077938     33.048306            4.223741"
      ]
     },
     "execution_count": 100,
     "metadata": {},
     "output_type": "execute_result"
    }
   ],
   "source": [
    "multiples.head()"
   ]
  },
  {
   "cell_type": "code",
   "execution_count": 102,
   "metadata": {},
   "outputs": [],
   "source": [
    "multiples = multiples.melt(id_vars=[\"district\"], \n",
    "        var_name=\"race\", \n",
    "        value_name=\"percent\").sort_values(by='district')"
   ]
  },
  {
   "cell_type": "code",
   "execution_count": 103,
   "metadata": {},
   "outputs": [],
   "source": [
    "multiples.to_csv('multiples.csv')"
   ]
  },
  {
   "cell_type": "markdown",
   "metadata": {},
   "source": [
    "## Homeless Students and Regents Exams"
   ]
  },
  {
   "cell_type": "code",
   "execution_count": 44,
   "metadata": {},
   "outputs": [],
   "source": [
    "regents = pd.read_excel('regentsexams.xlsx')"
   ]
  },
  {
   "cell_type": "code",
   "execution_count": 45,
   "metadata": {},
   "outputs": [
    {
     "data": {
      "text/html": [
       "<div>\n",
       "<style scoped>\n",
       "    .dataframe tbody tr th:only-of-type {\n",
       "        vertical-align: middle;\n",
       "    }\n",
       "\n",
       "    .dataframe tbody tr th {\n",
       "        vertical-align: top;\n",
       "    }\n",
       "\n",
       "    .dataframe thead th {\n",
       "        text-align: right;\n",
       "    }\n",
       "</style>\n",
       "<table border=\"1\" class=\"dataframe\">\n",
       "  <thead>\n",
       "    <tr style=\"text-align: right;\">\n",
       "      <th></th>\n",
       "      <th>ENTITY_NAME</th>\n",
       "      <th>SUBGROUP_NAME</th>\n",
       "      <th>SUBJECT</th>\n",
       "      <th>COHORT</th>\n",
       "      <th>COHORT_COUNT</th>\n",
       "      <th>NTEST_COUNT</th>\n",
       "      <th>NTEST_%COHORT</th>\n",
       "      <th>TEST_COUNT</th>\n",
       "      <th>TEST_%COHORT</th>\n",
       "      <th>LEVEL1_COUNT</th>\n",
       "      <th>LEVEL1_%COHORT</th>\n",
       "      <th>LEVEL2_COUNT</th>\n",
       "      <th>LEVEL2_%COHORT</th>\n",
       "      <th>LEVEL3_COUNT</th>\n",
       "      <th>LEVEL3_%COHORT</th>\n",
       "      <th>LEVEL4_COUNT</th>\n",
       "      <th>LEVEL4_%COHORT</th>\n",
       "      <th>PROF_COUNT</th>\n",
       "      <th>PROF_%COHORT</th>\n",
       "    </tr>\n",
       "  </thead>\n",
       "  <tbody>\n",
       "    <tr>\n",
       "      <th>0</th>\n",
       "      <td>NEW YORK CITY GEOGRAPHIC DISTRICT # 1</td>\n",
       "      <td>Homeless</td>\n",
       "      <td>Global History &amp; Geography</td>\n",
       "      <td>2015</td>\n",
       "      <td>80</td>\n",
       "      <td>23</td>\n",
       "      <td>29</td>\n",
       "      <td>57</td>\n",
       "      <td>71</td>\n",
       "      <td>6</td>\n",
       "      <td>8</td>\n",
       "      <td>10</td>\n",
       "      <td>13</td>\n",
       "      <td>28</td>\n",
       "      <td>35</td>\n",
       "      <td>13</td>\n",
       "      <td>16</td>\n",
       "      <td>41</td>\n",
       "      <td>51</td>\n",
       "    </tr>\n",
       "    <tr>\n",
       "      <th>1</th>\n",
       "      <td>NEW YORK CITY GEOGRAPHIC DISTRICT # 1</td>\n",
       "      <td>Homeless</td>\n",
       "      <td>US History &amp; Gov’t</td>\n",
       "      <td>2015</td>\n",
       "      <td>80</td>\n",
       "      <td>33</td>\n",
       "      <td>41</td>\n",
       "      <td>47</td>\n",
       "      <td>59</td>\n",
       "      <td>6</td>\n",
       "      <td>8</td>\n",
       "      <td>8</td>\n",
       "      <td>10</td>\n",
       "      <td>19</td>\n",
       "      <td>24</td>\n",
       "      <td>14</td>\n",
       "      <td>18</td>\n",
       "      <td>33</td>\n",
       "      <td>41</td>\n",
       "    </tr>\n",
       "    <tr>\n",
       "      <th>2</th>\n",
       "      <td>NEW YORK CITY GEOGRAPHIC DISTRICT # 1</td>\n",
       "      <td>Homeless</td>\n",
       "      <td>Math</td>\n",
       "      <td>2015</td>\n",
       "      <td>80</td>\n",
       "      <td>19</td>\n",
       "      <td>24</td>\n",
       "      <td>61</td>\n",
       "      <td>76</td>\n",
       "      <td>4</td>\n",
       "      <td>5</td>\n",
       "      <td>17</td>\n",
       "      <td>21</td>\n",
       "      <td>21</td>\n",
       "      <td>26</td>\n",
       "      <td>19</td>\n",
       "      <td>24</td>\n",
       "      <td>40</td>\n",
       "      <td>50</td>\n",
       "    </tr>\n",
       "    <tr>\n",
       "      <th>3</th>\n",
       "      <td>NEW YORK CITY GEOGRAPHIC DISTRICT # 1</td>\n",
       "      <td>Homeless</td>\n",
       "      <td>ELA</td>\n",
       "      <td>2015</td>\n",
       "      <td>80</td>\n",
       "      <td>20</td>\n",
       "      <td>25</td>\n",
       "      <td>60</td>\n",
       "      <td>75</td>\n",
       "      <td>4</td>\n",
       "      <td>5</td>\n",
       "      <td>9</td>\n",
       "      <td>11</td>\n",
       "      <td>28</td>\n",
       "      <td>35</td>\n",
       "      <td>19</td>\n",
       "      <td>24</td>\n",
       "      <td>47</td>\n",
       "      <td>59</td>\n",
       "    </tr>\n",
       "    <tr>\n",
       "      <th>4</th>\n",
       "      <td>NEW YORK CITY GEOGRAPHIC DISTRICT # 1</td>\n",
       "      <td>Homeless</td>\n",
       "      <td>Science</td>\n",
       "      <td>2015</td>\n",
       "      <td>80</td>\n",
       "      <td>22</td>\n",
       "      <td>28</td>\n",
       "      <td>58</td>\n",
       "      <td>73</td>\n",
       "      <td>6</td>\n",
       "      <td>8</td>\n",
       "      <td>10</td>\n",
       "      <td>13</td>\n",
       "      <td>28</td>\n",
       "      <td>35</td>\n",
       "      <td>14</td>\n",
       "      <td>18</td>\n",
       "      <td>42</td>\n",
       "      <td>53</td>\n",
       "    </tr>\n",
       "  </tbody>\n",
       "</table>\n",
       "</div>"
      ],
      "text/plain": [
       "                             ENTITY_NAME SUBGROUP_NAME  \\\n",
       "0  NEW YORK CITY GEOGRAPHIC DISTRICT # 1      Homeless   \n",
       "1  NEW YORK CITY GEOGRAPHIC DISTRICT # 1      Homeless   \n",
       "2  NEW YORK CITY GEOGRAPHIC DISTRICT # 1      Homeless   \n",
       "3  NEW YORK CITY GEOGRAPHIC DISTRICT # 1      Homeless   \n",
       "4  NEW YORK CITY GEOGRAPHIC DISTRICT # 1      Homeless   \n",
       "\n",
       "                      SUBJECT  COHORT  COHORT_COUNT  NTEST_COUNT  \\\n",
       "0  Global History & Geography    2015            80           23   \n",
       "1          US History & Gov’t    2015            80           33   \n",
       "2                        Math    2015            80           19   \n",
       "3                         ELA    2015            80           20   \n",
       "4                     Science    2015            80           22   \n",
       "\n",
       "   NTEST_%COHORT  TEST_COUNT  TEST_%COHORT  LEVEL1_COUNT  LEVEL1_%COHORT  \\\n",
       "0             29          57            71             6               8   \n",
       "1             41          47            59             6               8   \n",
       "2             24          61            76             4               5   \n",
       "3             25          60            75             4               5   \n",
       "4             28          58            73             6               8   \n",
       "\n",
       "   LEVEL2_COUNT  LEVEL2_%COHORT  LEVEL3_COUNT  LEVEL3_%COHORT  LEVEL4_COUNT  \\\n",
       "0            10              13            28              35            13   \n",
       "1             8              10            19              24            14   \n",
       "2            17              21            21              26            19   \n",
       "3             9              11            28              35            19   \n",
       "4            10              13            28              35            14   \n",
       "\n",
       "   LEVEL4_%COHORT  PROF_COUNT  PROF_%COHORT  \n",
       "0              16          41            51  \n",
       "1              18          33            41  \n",
       "2              24          40            50  \n",
       "3              24          47            59  \n",
       "4              18          42            53  "
      ]
     },
     "execution_count": 45,
     "metadata": {},
     "output_type": "execute_result"
    }
   ],
   "source": [
    "regents.head()"
   ]
  },
  {
   "cell_type": "code",
   "execution_count": 46,
   "metadata": {},
   "outputs": [],
   "source": [
    "subjects = pd.DataFrame(regents.groupby(by=['SUBGROUP_NAME','SUBJECT'])['PROF_COUNT','COHORT_COUNT'].sum().sort_values(by='SUBJECT').reset_index())"
   ]
  },
  {
   "cell_type": "code",
   "execution_count": 47,
   "metadata": {},
   "outputs": [],
   "source": [
    "subjects['pct_proficiency'] = subjects.apply(lambda row: (row['PROF_COUNT'] / row['COHORT_COUNT'])*100, axis=1)"
   ]
  },
  {
   "cell_type": "code",
   "execution_count": 48,
   "metadata": {},
   "outputs": [
    {
     "data": {
      "text/html": [
       "<div>\n",
       "<style scoped>\n",
       "    .dataframe tbody tr th:only-of-type {\n",
       "        vertical-align: middle;\n",
       "    }\n",
       "\n",
       "    .dataframe tbody tr th {\n",
       "        vertical-align: top;\n",
       "    }\n",
       "\n",
       "    .dataframe thead th {\n",
       "        text-align: right;\n",
       "    }\n",
       "</style>\n",
       "<table border=\"1\" class=\"dataframe\">\n",
       "  <thead>\n",
       "    <tr style=\"text-align: right;\">\n",
       "      <th></th>\n",
       "      <th>SUBGROUP_NAME</th>\n",
       "      <th>SUBJECT</th>\n",
       "      <th>PROF_COUNT</th>\n",
       "      <th>COHORT_COUNT</th>\n",
       "      <th>pct_proficiency</th>\n",
       "    </tr>\n",
       "  </thead>\n",
       "  <tbody>\n",
       "    <tr>\n",
       "      <th>0</th>\n",
       "      <td>Homeless</td>\n",
       "      <td>ELA</td>\n",
       "      <td>3397</td>\n",
       "      <td>5344</td>\n",
       "      <td>63.566617</td>\n",
       "    </tr>\n",
       "    <tr>\n",
       "      <th>1</th>\n",
       "      <td>Not Homeless</td>\n",
       "      <td>ELA</td>\n",
       "      <td>56057</td>\n",
       "      <td>68428</td>\n",
       "      <td>81.921143</td>\n",
       "    </tr>\n",
       "    <tr>\n",
       "      <th>2</th>\n",
       "      <td>Homeless</td>\n",
       "      <td>Global History &amp; Geography</td>\n",
       "      <td>2810</td>\n",
       "      <td>5344</td>\n",
       "      <td>52.582335</td>\n",
       "    </tr>\n",
       "    <tr>\n",
       "      <th>3</th>\n",
       "      <td>Not Homeless</td>\n",
       "      <td>Global History &amp; Geography</td>\n",
       "      <td>48554</td>\n",
       "      <td>68428</td>\n",
       "      <td>70.956334</td>\n",
       "    </tr>\n",
       "    <tr>\n",
       "      <th>4</th>\n",
       "      <td>Homeless</td>\n",
       "      <td>Math</td>\n",
       "      <td>3392</td>\n",
       "      <td>5344</td>\n",
       "      <td>63.473054</td>\n",
       "    </tr>\n",
       "    <tr>\n",
       "      <th>5</th>\n",
       "      <td>Not Homeless</td>\n",
       "      <td>Math</td>\n",
       "      <td>53742</td>\n",
       "      <td>68428</td>\n",
       "      <td>78.538025</td>\n",
       "    </tr>\n",
       "    <tr>\n",
       "      <th>6</th>\n",
       "      <td>Homeless</td>\n",
       "      <td>Science</td>\n",
       "      <td>3154</td>\n",
       "      <td>5344</td>\n",
       "      <td>59.019461</td>\n",
       "    </tr>\n",
       "    <tr>\n",
       "      <th>7</th>\n",
       "      <td>Not Homeless</td>\n",
       "      <td>Science</td>\n",
       "      <td>52670</td>\n",
       "      <td>68428</td>\n",
       "      <td>76.971415</td>\n",
       "    </tr>\n",
       "    <tr>\n",
       "      <th>8</th>\n",
       "      <td>Homeless</td>\n",
       "      <td>US History &amp; Gov’t</td>\n",
       "      <td>2740</td>\n",
       "      <td>5344</td>\n",
       "      <td>51.272455</td>\n",
       "    </tr>\n",
       "    <tr>\n",
       "      <th>9</th>\n",
       "      <td>Not Homeless</td>\n",
       "      <td>US History &amp; Gov’t</td>\n",
       "      <td>48972</td>\n",
       "      <td>68428</td>\n",
       "      <td>71.567195</td>\n",
       "    </tr>\n",
       "  </tbody>\n",
       "</table>\n",
       "</div>"
      ],
      "text/plain": [
       "  SUBGROUP_NAME                     SUBJECT  PROF_COUNT  COHORT_COUNT  \\\n",
       "0      Homeless                         ELA        3397          5344   \n",
       "1  Not Homeless                         ELA       56057         68428   \n",
       "2      Homeless  Global History & Geography        2810          5344   \n",
       "3  Not Homeless  Global History & Geography       48554         68428   \n",
       "4      Homeless                        Math        3392          5344   \n",
       "5  Not Homeless                        Math       53742         68428   \n",
       "6      Homeless                     Science        3154          5344   \n",
       "7  Not Homeless                     Science       52670         68428   \n",
       "8      Homeless          US History & Gov’t        2740          5344   \n",
       "9  Not Homeless          US History & Gov’t       48972         68428   \n",
       "\n",
       "   pct_proficiency  \n",
       "0        63.566617  \n",
       "1        81.921143  \n",
       "2        52.582335  \n",
       "3        70.956334  \n",
       "4        63.473054  \n",
       "5        78.538025  \n",
       "6        59.019461  \n",
       "7        76.971415  \n",
       "8        51.272455  \n",
       "9        71.567195  "
      ]
     },
     "execution_count": 48,
     "metadata": {},
     "output_type": "execute_result"
    }
   ],
   "source": [
    "subjects"
   ]
  },
  {
   "cell_type": "code",
   "execution_count": 49,
   "metadata": {},
   "outputs": [],
   "source": [
    "proficiency_districts = pd.DataFrame(regents.groupby(by=['ENTITY_NAME', 'SUBGROUP_NAME'])['PROF_COUNT','COHORT_COUNT'].sum().reset_index())"
   ]
  },
  {
   "cell_type": "code",
   "execution_count": 50,
   "metadata": {},
   "outputs": [],
   "source": [
    "proficiency_districts['pct_proficiency'] = proficiency_districts.apply(lambda row: (row['PROF_COUNT'] / row['COHORT_COUNT'])*100, axis=1)"
   ]
  },
  {
   "cell_type": "code",
   "execution_count": 51,
   "metadata": {},
   "outputs": [
    {
     "data": {
      "text/html": [
       "<div>\n",
       "<style scoped>\n",
       "    .dataframe tbody tr th:only-of-type {\n",
       "        vertical-align: middle;\n",
       "    }\n",
       "\n",
       "    .dataframe tbody tr th {\n",
       "        vertical-align: top;\n",
       "    }\n",
       "\n",
       "    .dataframe thead th {\n",
       "        text-align: right;\n",
       "    }\n",
       "</style>\n",
       "<table border=\"1\" class=\"dataframe\">\n",
       "  <thead>\n",
       "    <tr style=\"text-align: right;\">\n",
       "      <th></th>\n",
       "      <th>ENTITY_NAME</th>\n",
       "      <th>SUBGROUP_NAME</th>\n",
       "      <th>PROF_COUNT</th>\n",
       "      <th>COHORT_COUNT</th>\n",
       "      <th>pct_proficiency</th>\n",
       "    </tr>\n",
       "  </thead>\n",
       "  <tbody>\n",
       "    <tr>\n",
       "      <th>22</th>\n",
       "      <td>NEW YORK CITY GEOGRAPHIC DISTRICT #12</td>\n",
       "      <td>Homeless</td>\n",
       "      <td>424</td>\n",
       "      <td>1055</td>\n",
       "      <td>40.189573</td>\n",
       "    </tr>\n",
       "    <tr>\n",
       "      <th>44</th>\n",
       "      <td>NEW YORK CITY GEOGRAPHIC DISTRICT #23</td>\n",
       "      <td>Homeless</td>\n",
       "      <td>154</td>\n",
       "      <td>365</td>\n",
       "      <td>42.191781</td>\n",
       "    </tr>\n",
       "    <tr>\n",
       "      <th>12</th>\n",
       "      <td>NEW YORK CITY GEOGRAPHIC DISTRICT # 7</td>\n",
       "      <td>Homeless</td>\n",
       "      <td>488</td>\n",
       "      <td>1135</td>\n",
       "      <td>42.995595</td>\n",
       "    </tr>\n",
       "    <tr>\n",
       "      <th>30</th>\n",
       "      <td>NEW YORK CITY GEOGRAPHIC DISTRICT #16</td>\n",
       "      <td>Homeless</td>\n",
       "      <td>131</td>\n",
       "      <td>280</td>\n",
       "      <td>46.785714</td>\n",
       "    </tr>\n",
       "    <tr>\n",
       "      <th>45</th>\n",
       "      <td>NEW YORK CITY GEOGRAPHIC DISTRICT #23</td>\n",
       "      <td>Not Homeless</td>\n",
       "      <td>1139</td>\n",
       "      <td>2355</td>\n",
       "      <td>48.365180</td>\n",
       "    </tr>\n",
       "    <tr>\n",
       "      <th>46</th>\n",
       "      <td>NEW YORK CITY GEOGRAPHIC DISTRICT #24</td>\n",
       "      <td>Homeless</td>\n",
       "      <td>459</td>\n",
       "      <td>930</td>\n",
       "      <td>49.354839</td>\n",
       "    </tr>\n",
       "    <tr>\n",
       "      <th>62</th>\n",
       "      <td>NEW YORK CITY GEOGRAPHIC DISTRICT #32</td>\n",
       "      <td>Homeless</td>\n",
       "      <td>144</td>\n",
       "      <td>290</td>\n",
       "      <td>49.655172</td>\n",
       "    </tr>\n",
       "    <tr>\n",
       "      <th>16</th>\n",
       "      <td>NEW YORK CITY GEOGRAPHIC DISTRICT # 9</td>\n",
       "      <td>Homeless</td>\n",
       "      <td>834</td>\n",
       "      <td>1645</td>\n",
       "      <td>50.699088</td>\n",
       "    </tr>\n",
       "    <tr>\n",
       "      <th>0</th>\n",
       "      <td>NEW YORK CITY GEOGRAPHIC DISTRICT # 1</td>\n",
       "      <td>Homeless</td>\n",
       "      <td>203</td>\n",
       "      <td>400</td>\n",
       "      <td>50.750000</td>\n",
       "    </tr>\n",
       "    <tr>\n",
       "      <th>14</th>\n",
       "      <td>NEW YORK CITY GEOGRAPHIC DISTRICT # 8</td>\n",
       "      <td>Homeless</td>\n",
       "      <td>555</td>\n",
       "      <td>1090</td>\n",
       "      <td>50.917431</td>\n",
       "    </tr>\n",
       "    <tr>\n",
       "      <th>4</th>\n",
       "      <td>NEW YORK CITY GEOGRAPHIC DISTRICT # 3</td>\n",
       "      <td>Homeless</td>\n",
       "      <td>306</td>\n",
       "      <td>585</td>\n",
       "      <td>52.307692</td>\n",
       "    </tr>\n",
       "    <tr>\n",
       "      <th>18</th>\n",
       "      <td>NEW YORK CITY GEOGRAPHIC DISTRICT #10</td>\n",
       "      <td>Homeless</td>\n",
       "      <td>1072</td>\n",
       "      <td>2000</td>\n",
       "      <td>53.600000</td>\n",
       "    </tr>\n",
       "    <tr>\n",
       "      <th>13</th>\n",
       "      <td>NEW YORK CITY GEOGRAPHIC DISTRICT # 7</td>\n",
       "      <td>Not Homeless</td>\n",
       "      <td>4247</td>\n",
       "      <td>7840</td>\n",
       "      <td>54.170918</td>\n",
       "    </tr>\n",
       "    <tr>\n",
       "      <th>26</th>\n",
       "      <td>NEW YORK CITY GEOGRAPHIC DISTRICT #14</td>\n",
       "      <td>Homeless</td>\n",
       "      <td>251</td>\n",
       "      <td>460</td>\n",
       "      <td>54.565217</td>\n",
       "    </tr>\n",
       "    <tr>\n",
       "      <th>23</th>\n",
       "      <td>NEW YORK CITY GEOGRAPHIC DISTRICT #12</td>\n",
       "      <td>Not Homeless</td>\n",
       "      <td>3955</td>\n",
       "      <td>7150</td>\n",
       "      <td>55.314685</td>\n",
       "    </tr>\n",
       "    <tr>\n",
       "      <th>48</th>\n",
       "      <td>NEW YORK CITY GEOGRAPHIC DISTRICT #25</td>\n",
       "      <td>Homeless</td>\n",
       "      <td>305</td>\n",
       "      <td>550</td>\n",
       "      <td>55.454545</td>\n",
       "    </tr>\n",
       "    <tr>\n",
       "      <th>34</th>\n",
       "      <td>NEW YORK CITY GEOGRAPHIC DISTRICT #18</td>\n",
       "      <td>Homeless</td>\n",
       "      <td>217</td>\n",
       "      <td>390</td>\n",
       "      <td>55.641026</td>\n",
       "    </tr>\n",
       "    <tr>\n",
       "      <th>32</th>\n",
       "      <td>NEW YORK CITY GEOGRAPHIC DISTRICT #17</td>\n",
       "      <td>Homeless</td>\n",
       "      <td>401</td>\n",
       "      <td>705</td>\n",
       "      <td>56.879433</td>\n",
       "    </tr>\n",
       "    <tr>\n",
       "      <th>2</th>\n",
       "      <td>NEW YORK CITY GEOGRAPHIC DISTRICT # 2</td>\n",
       "      <td>Homeless</td>\n",
       "      <td>1892</td>\n",
       "      <td>3280</td>\n",
       "      <td>57.682927</td>\n",
       "    </tr>\n",
       "    <tr>\n",
       "      <th>20</th>\n",
       "      <td>NEW YORK CITY GEOGRAPHIC DISTRICT #11</td>\n",
       "      <td>Homeless</td>\n",
       "      <td>619</td>\n",
       "      <td>1070</td>\n",
       "      <td>57.850467</td>\n",
       "    </tr>\n",
       "  </tbody>\n",
       "</table>\n",
       "</div>"
      ],
      "text/plain": [
       "                              ENTITY_NAME SUBGROUP_NAME  PROF_COUNT  \\\n",
       "22  NEW YORK CITY GEOGRAPHIC DISTRICT #12      Homeless         424   \n",
       "44  NEW YORK CITY GEOGRAPHIC DISTRICT #23      Homeless         154   \n",
       "12  NEW YORK CITY GEOGRAPHIC DISTRICT # 7      Homeless         488   \n",
       "30  NEW YORK CITY GEOGRAPHIC DISTRICT #16      Homeless         131   \n",
       "45  NEW YORK CITY GEOGRAPHIC DISTRICT #23  Not Homeless        1139   \n",
       "46  NEW YORK CITY GEOGRAPHIC DISTRICT #24      Homeless         459   \n",
       "62  NEW YORK CITY GEOGRAPHIC DISTRICT #32      Homeless         144   \n",
       "16  NEW YORK CITY GEOGRAPHIC DISTRICT # 9      Homeless         834   \n",
       "0   NEW YORK CITY GEOGRAPHIC DISTRICT # 1      Homeless         203   \n",
       "14  NEW YORK CITY GEOGRAPHIC DISTRICT # 8      Homeless         555   \n",
       "4   NEW YORK CITY GEOGRAPHIC DISTRICT # 3      Homeless         306   \n",
       "18  NEW YORK CITY GEOGRAPHIC DISTRICT #10      Homeless        1072   \n",
       "13  NEW YORK CITY GEOGRAPHIC DISTRICT # 7  Not Homeless        4247   \n",
       "26  NEW YORK CITY GEOGRAPHIC DISTRICT #14      Homeless         251   \n",
       "23  NEW YORK CITY GEOGRAPHIC DISTRICT #12  Not Homeless        3955   \n",
       "48  NEW YORK CITY GEOGRAPHIC DISTRICT #25      Homeless         305   \n",
       "34  NEW YORK CITY GEOGRAPHIC DISTRICT #18      Homeless         217   \n",
       "32  NEW YORK CITY GEOGRAPHIC DISTRICT #17      Homeless         401   \n",
       "2   NEW YORK CITY GEOGRAPHIC DISTRICT # 2      Homeless        1892   \n",
       "20  NEW YORK CITY GEOGRAPHIC DISTRICT #11      Homeless         619   \n",
       "\n",
       "    COHORT_COUNT  pct_proficiency  \n",
       "22          1055        40.189573  \n",
       "44           365        42.191781  \n",
       "12          1135        42.995595  \n",
       "30           280        46.785714  \n",
       "45          2355        48.365180  \n",
       "46           930        49.354839  \n",
       "62           290        49.655172  \n",
       "16          1645        50.699088  \n",
       "0            400        50.750000  \n",
       "14          1090        50.917431  \n",
       "4            585        52.307692  \n",
       "18          2000        53.600000  \n",
       "13          7840        54.170918  \n",
       "26           460        54.565217  \n",
       "23          7150        55.314685  \n",
       "48           550        55.454545  \n",
       "34           390        55.641026  \n",
       "32           705        56.879433  \n",
       "2           3280        57.682927  \n",
       "20          1070        57.850467  "
      ]
     },
     "execution_count": 51,
     "metadata": {},
     "output_type": "execute_result"
    }
   ],
   "source": [
    "proficiency_districts.sort_values(by='pct_proficiency').head(20)"
   ]
  },
  {
   "cell_type": "code",
   "execution_count": 52,
   "metadata": {},
   "outputs": [],
   "source": [
    "subjects = subjects.groupby(by=['SUBGROUP_NAME', 'SUBJECT'])['PROF_COUNT', 'COHORT_COUNT'].sum().reset_index()"
   ]
  },
  {
   "cell_type": "code",
   "execution_count": 53,
   "metadata": {},
   "outputs": [],
   "source": [
    "subjects['pct_prof'] = (subjects['PROF_COUNT'] * 100) / subjects['COHORT_COUNT']"
   ]
  },
  {
   "cell_type": "code",
   "execution_count": 54,
   "metadata": {},
   "outputs": [
    {
     "data": {
      "text/html": [
       "<div>\n",
       "<style scoped>\n",
       "    .dataframe tbody tr th:only-of-type {\n",
       "        vertical-align: middle;\n",
       "    }\n",
       "\n",
       "    .dataframe tbody tr th {\n",
       "        vertical-align: top;\n",
       "    }\n",
       "\n",
       "    .dataframe thead th {\n",
       "        text-align: right;\n",
       "    }\n",
       "</style>\n",
       "<table border=\"1\" class=\"dataframe\">\n",
       "  <thead>\n",
       "    <tr style=\"text-align: right;\">\n",
       "      <th></th>\n",
       "      <th>SUBGROUP_NAME</th>\n",
       "      <th>SUBJECT</th>\n",
       "      <th>PROF_COUNT</th>\n",
       "      <th>COHORT_COUNT</th>\n",
       "      <th>pct_prof</th>\n",
       "    </tr>\n",
       "  </thead>\n",
       "  <tbody>\n",
       "    <tr>\n",
       "      <th>0</th>\n",
       "      <td>Homeless</td>\n",
       "      <td>ELA</td>\n",
       "      <td>3397</td>\n",
       "      <td>5344</td>\n",
       "      <td>63.566617</td>\n",
       "    </tr>\n",
       "    <tr>\n",
       "      <th>5</th>\n",
       "      <td>Not Homeless</td>\n",
       "      <td>ELA</td>\n",
       "      <td>56057</td>\n",
       "      <td>68428</td>\n",
       "      <td>81.921143</td>\n",
       "    </tr>\n",
       "    <tr>\n",
       "      <th>1</th>\n",
       "      <td>Homeless</td>\n",
       "      <td>Global History &amp; Geography</td>\n",
       "      <td>2810</td>\n",
       "      <td>5344</td>\n",
       "      <td>52.582335</td>\n",
       "    </tr>\n",
       "    <tr>\n",
       "      <th>6</th>\n",
       "      <td>Not Homeless</td>\n",
       "      <td>Global History &amp; Geography</td>\n",
       "      <td>48554</td>\n",
       "      <td>68428</td>\n",
       "      <td>70.956334</td>\n",
       "    </tr>\n",
       "    <tr>\n",
       "      <th>2</th>\n",
       "      <td>Homeless</td>\n",
       "      <td>Math</td>\n",
       "      <td>3392</td>\n",
       "      <td>5344</td>\n",
       "      <td>63.473054</td>\n",
       "    </tr>\n",
       "    <tr>\n",
       "      <th>7</th>\n",
       "      <td>Not Homeless</td>\n",
       "      <td>Math</td>\n",
       "      <td>53742</td>\n",
       "      <td>68428</td>\n",
       "      <td>78.538025</td>\n",
       "    </tr>\n",
       "    <tr>\n",
       "      <th>3</th>\n",
       "      <td>Homeless</td>\n",
       "      <td>Science</td>\n",
       "      <td>3154</td>\n",
       "      <td>5344</td>\n",
       "      <td>59.019461</td>\n",
       "    </tr>\n",
       "    <tr>\n",
       "      <th>8</th>\n",
       "      <td>Not Homeless</td>\n",
       "      <td>Science</td>\n",
       "      <td>52670</td>\n",
       "      <td>68428</td>\n",
       "      <td>76.971415</td>\n",
       "    </tr>\n",
       "    <tr>\n",
       "      <th>4</th>\n",
       "      <td>Homeless</td>\n",
       "      <td>US History &amp; Gov’t</td>\n",
       "      <td>2740</td>\n",
       "      <td>5344</td>\n",
       "      <td>51.272455</td>\n",
       "    </tr>\n",
       "    <tr>\n",
       "      <th>9</th>\n",
       "      <td>Not Homeless</td>\n",
       "      <td>US History &amp; Gov’t</td>\n",
       "      <td>48972</td>\n",
       "      <td>68428</td>\n",
       "      <td>71.567195</td>\n",
       "    </tr>\n",
       "  </tbody>\n",
       "</table>\n",
       "</div>"
      ],
      "text/plain": [
       "  SUBGROUP_NAME                     SUBJECT  PROF_COUNT  COHORT_COUNT  \\\n",
       "0      Homeless                         ELA        3397          5344   \n",
       "5  Not Homeless                         ELA       56057         68428   \n",
       "1      Homeless  Global History & Geography        2810          5344   \n",
       "6  Not Homeless  Global History & Geography       48554         68428   \n",
       "2      Homeless                        Math        3392          5344   \n",
       "7  Not Homeless                        Math       53742         68428   \n",
       "3      Homeless                     Science        3154          5344   \n",
       "8  Not Homeless                     Science       52670         68428   \n",
       "4      Homeless          US History & Gov’t        2740          5344   \n",
       "9  Not Homeless          US History & Gov’t       48972         68428   \n",
       "\n",
       "    pct_prof  \n",
       "0  63.566617  \n",
       "5  81.921143  \n",
       "1  52.582335  \n",
       "6  70.956334  \n",
       "2  63.473054  \n",
       "7  78.538025  \n",
       "3  59.019461  \n",
       "8  76.971415  \n",
       "4  51.272455  \n",
       "9  71.567195  "
      ]
     },
     "execution_count": 54,
     "metadata": {},
     "output_type": "execute_result"
    }
   ],
   "source": [
    "subjects.sort_values(by='SUBJECT')"
   ]
  },
  {
   "cell_type": "code",
   "execution_count": 55,
   "metadata": {},
   "outputs": [],
   "source": [
    "proficiency_districts = proficiency_districts.pivot_table(index='ENTITY_NAME', \n",
    "                                                          columns='SUBGROUP_NAME', values='pct_proficiency').reset_index()"
   ]
  },
  {
   "cell_type": "code",
   "execution_count": 56,
   "metadata": {},
   "outputs": [],
   "source": [
    "proficiency_districts['pct_diff'] = proficiency_districts.apply(lambda row: (row['Not Homeless'] - row['Homeless']), axis=1)"
   ]
  },
  {
   "cell_type": "code",
   "execution_count": 57,
   "metadata": {},
   "outputs": [
    {
     "data": {
      "text/html": [
       "<div>\n",
       "<style scoped>\n",
       "    .dataframe tbody tr th:only-of-type {\n",
       "        vertical-align: middle;\n",
       "    }\n",
       "\n",
       "    .dataframe tbody tr th {\n",
       "        vertical-align: top;\n",
       "    }\n",
       "\n",
       "    .dataframe thead th {\n",
       "        text-align: right;\n",
       "    }\n",
       "</style>\n",
       "<table border=\"1\" class=\"dataframe\">\n",
       "  <thead>\n",
       "    <tr style=\"text-align: right;\">\n",
       "      <th>SUBGROUP_NAME</th>\n",
       "      <th>ENTITY_NAME</th>\n",
       "      <th>Homeless</th>\n",
       "      <th>Not Homeless</th>\n",
       "      <th>pct_diff</th>\n",
       "    </tr>\n",
       "  </thead>\n",
       "  <tbody>\n",
       "    <tr>\n",
       "      <th>11</th>\n",
       "      <td>NEW YORK CITY GEOGRAPHIC DISTRICT #12</td>\n",
       "      <td>40.189573</td>\n",
       "      <td>55.314685</td>\n",
       "      <td>15.125112</td>\n",
       "    </tr>\n",
       "    <tr>\n",
       "      <th>22</th>\n",
       "      <td>NEW YORK CITY GEOGRAPHIC DISTRICT #23</td>\n",
       "      <td>42.191781</td>\n",
       "      <td>48.365180</td>\n",
       "      <td>6.173400</td>\n",
       "    </tr>\n",
       "    <tr>\n",
       "      <th>6</th>\n",
       "      <td>NEW YORK CITY GEOGRAPHIC DISTRICT # 7</td>\n",
       "      <td>42.995595</td>\n",
       "      <td>54.170918</td>\n",
       "      <td>11.175324</td>\n",
       "    </tr>\n",
       "    <tr>\n",
       "      <th>15</th>\n",
       "      <td>NEW YORK CITY GEOGRAPHIC DISTRICT #16</td>\n",
       "      <td>46.785714</td>\n",
       "      <td>58.387097</td>\n",
       "      <td>11.601382</td>\n",
       "    </tr>\n",
       "    <tr>\n",
       "      <th>23</th>\n",
       "      <td>NEW YORK CITY GEOGRAPHIC DISTRICT #24</td>\n",
       "      <td>49.354839</td>\n",
       "      <td>77.080467</td>\n",
       "      <td>27.725628</td>\n",
       "    </tr>\n",
       "    <tr>\n",
       "      <th>31</th>\n",
       "      <td>NEW YORK CITY GEOGRAPHIC DISTRICT #32</td>\n",
       "      <td>49.655172</td>\n",
       "      <td>65.551724</td>\n",
       "      <td>15.896552</td>\n",
       "    </tr>\n",
       "    <tr>\n",
       "      <th>8</th>\n",
       "      <td>NEW YORK CITY GEOGRAPHIC DISTRICT # 9</td>\n",
       "      <td>50.699088</td>\n",
       "      <td>66.591398</td>\n",
       "      <td>15.892310</td>\n",
       "    </tr>\n",
       "    <tr>\n",
       "      <th>0</th>\n",
       "      <td>NEW YORK CITY GEOGRAPHIC DISTRICT # 1</td>\n",
       "      <td>50.750000</td>\n",
       "      <td>67.710583</td>\n",
       "      <td>16.960583</td>\n",
       "    </tr>\n",
       "    <tr>\n",
       "      <th>7</th>\n",
       "      <td>NEW YORK CITY GEOGRAPHIC DISTRICT # 8</td>\n",
       "      <td>50.917431</td>\n",
       "      <td>61.696275</td>\n",
       "      <td>10.778844</td>\n",
       "    </tr>\n",
       "    <tr>\n",
       "      <th>2</th>\n",
       "      <td>NEW YORK CITY GEOGRAPHIC DISTRICT # 3</td>\n",
       "      <td>52.307692</td>\n",
       "      <td>74.990926</td>\n",
       "      <td>22.683233</td>\n",
       "    </tr>\n",
       "    <tr>\n",
       "      <th>9</th>\n",
       "      <td>NEW YORK CITY GEOGRAPHIC DISTRICT #10</td>\n",
       "      <td>53.600000</td>\n",
       "      <td>74.672293</td>\n",
       "      <td>21.072293</td>\n",
       "    </tr>\n",
       "    <tr>\n",
       "      <th>13</th>\n",
       "      <td>NEW YORK CITY GEOGRAPHIC DISTRICT #14</td>\n",
       "      <td>54.565217</td>\n",
       "      <td>72.852088</td>\n",
       "      <td>18.286870</td>\n",
       "    </tr>\n",
       "    <tr>\n",
       "      <th>24</th>\n",
       "      <td>NEW YORK CITY GEOGRAPHIC DISTRICT #25</td>\n",
       "      <td>55.454545</td>\n",
       "      <td>77.744361</td>\n",
       "      <td>22.289815</td>\n",
       "    </tr>\n",
       "    <tr>\n",
       "      <th>17</th>\n",
       "      <td>NEW YORK CITY GEOGRAPHIC DISTRICT #18</td>\n",
       "      <td>55.641026</td>\n",
       "      <td>63.697778</td>\n",
       "      <td>8.056752</td>\n",
       "    </tr>\n",
       "    <tr>\n",
       "      <th>16</th>\n",
       "      <td>NEW YORK CITY GEOGRAPHIC DISTRICT #17</td>\n",
       "      <td>56.879433</td>\n",
       "      <td>73.936489</td>\n",
       "      <td>17.057056</td>\n",
       "    </tr>\n",
       "    <tr>\n",
       "      <th>1</th>\n",
       "      <td>NEW YORK CITY GEOGRAPHIC DISTRICT # 2</td>\n",
       "      <td>57.682927</td>\n",
       "      <td>75.083220</td>\n",
       "      <td>17.400293</td>\n",
       "    </tr>\n",
       "    <tr>\n",
       "      <th>10</th>\n",
       "      <td>NEW YORK CITY GEOGRAPHIC DISTRICT #11</td>\n",
       "      <td>57.850467</td>\n",
       "      <td>69.006560</td>\n",
       "      <td>11.156093</td>\n",
       "    </tr>\n",
       "    <tr>\n",
       "      <th>18</th>\n",
       "      <td>NEW YORK CITY GEOGRAPHIC DISTRICT #19</td>\n",
       "      <td>57.910448</td>\n",
       "      <td>69.625000</td>\n",
       "      <td>11.714552</td>\n",
       "    </tr>\n",
       "    <tr>\n",
       "      <th>26</th>\n",
       "      <td>NEW YORK CITY GEOGRAPHIC DISTRICT #27</td>\n",
       "      <td>58.400000</td>\n",
       "      <td>75.019547</td>\n",
       "      <td>16.619547</td>\n",
       "    </tr>\n",
       "    <tr>\n",
       "      <th>28</th>\n",
       "      <td>NEW YORK CITY GEOGRAPHIC DISTRICT #29</td>\n",
       "      <td>58.947368</td>\n",
       "      <td>70.764925</td>\n",
       "      <td>11.817557</td>\n",
       "    </tr>\n",
       "    <tr>\n",
       "      <th>20</th>\n",
       "      <td>NEW YORK CITY GEOGRAPHIC DISTRICT #21</td>\n",
       "      <td>59.305019</td>\n",
       "      <td>77.034773</td>\n",
       "      <td>17.729753</td>\n",
       "    </tr>\n",
       "    <tr>\n",
       "      <th>4</th>\n",
       "      <td>NEW YORK CITY GEOGRAPHIC DISTRICT # 5</td>\n",
       "      <td>60.882353</td>\n",
       "      <td>71.764706</td>\n",
       "      <td>10.882353</td>\n",
       "    </tr>\n",
       "    <tr>\n",
       "      <th>14</th>\n",
       "      <td>NEW YORK CITY GEOGRAPHIC DISTRICT #15</td>\n",
       "      <td>61.250000</td>\n",
       "      <td>68.194726</td>\n",
       "      <td>6.944726</td>\n",
       "    </tr>\n",
       "    <tr>\n",
       "      <th>30</th>\n",
       "      <td>NEW YORK CITY GEOGRAPHIC DISTRICT #31</td>\n",
       "      <td>64.324324</td>\n",
       "      <td>82.006533</td>\n",
       "      <td>17.682209</td>\n",
       "    </tr>\n",
       "    <tr>\n",
       "      <th>29</th>\n",
       "      <td>NEW YORK CITY GEOGRAPHIC DISTRICT #30</td>\n",
       "      <td>66.811594</td>\n",
       "      <td>82.425000</td>\n",
       "      <td>15.613406</td>\n",
       "    </tr>\n",
       "    <tr>\n",
       "      <th>5</th>\n",
       "      <td>NEW YORK CITY GEOGRAPHIC DISTRICT # 6</td>\n",
       "      <td>67.387387</td>\n",
       "      <td>73.444640</td>\n",
       "      <td>6.057252</td>\n",
       "    </tr>\n",
       "    <tr>\n",
       "      <th>12</th>\n",
       "      <td>NEW YORK CITY GEOGRAPHIC DISTRICT #13</td>\n",
       "      <td>70.895522</td>\n",
       "      <td>87.126259</td>\n",
       "      <td>16.230736</td>\n",
       "    </tr>\n",
       "    <tr>\n",
       "      <th>19</th>\n",
       "      <td>NEW YORK CITY GEOGRAPHIC DISTRICT #20</td>\n",
       "      <td>71.326165</td>\n",
       "      <td>81.620888</td>\n",
       "      <td>10.294724</td>\n",
       "    </tr>\n",
       "    <tr>\n",
       "      <th>3</th>\n",
       "      <td>NEW YORK CITY GEOGRAPHIC DISTRICT # 4</td>\n",
       "      <td>72.340426</td>\n",
       "      <td>85.389908</td>\n",
       "      <td>13.049483</td>\n",
       "    </tr>\n",
       "    <tr>\n",
       "      <th>27</th>\n",
       "      <td>NEW YORK CITY GEOGRAPHIC DISTRICT #28</td>\n",
       "      <td>75.692308</td>\n",
       "      <td>87.330786</td>\n",
       "      <td>11.638478</td>\n",
       "    </tr>\n",
       "    <tr>\n",
       "      <th>21</th>\n",
       "      <td>NEW YORK CITY GEOGRAPHIC DISTRICT #22</td>\n",
       "      <td>76.911765</td>\n",
       "      <td>88.232365</td>\n",
       "      <td>11.320600</td>\n",
       "    </tr>\n",
       "    <tr>\n",
       "      <th>25</th>\n",
       "      <td>NEW YORK CITY GEOGRAPHIC DISTRICT #26</td>\n",
       "      <td>85.283019</td>\n",
       "      <td>90.295258</td>\n",
       "      <td>5.012239</td>\n",
       "    </tr>\n",
       "  </tbody>\n",
       "</table>\n",
       "</div>"
      ],
      "text/plain": [
       "SUBGROUP_NAME                            ENTITY_NAME   Homeless  Not Homeless  \\\n",
       "11             NEW YORK CITY GEOGRAPHIC DISTRICT #12  40.189573     55.314685   \n",
       "22             NEW YORK CITY GEOGRAPHIC DISTRICT #23  42.191781     48.365180   \n",
       "6              NEW YORK CITY GEOGRAPHIC DISTRICT # 7  42.995595     54.170918   \n",
       "15             NEW YORK CITY GEOGRAPHIC DISTRICT #16  46.785714     58.387097   \n",
       "23             NEW YORK CITY GEOGRAPHIC DISTRICT #24  49.354839     77.080467   \n",
       "31             NEW YORK CITY GEOGRAPHIC DISTRICT #32  49.655172     65.551724   \n",
       "8              NEW YORK CITY GEOGRAPHIC DISTRICT # 9  50.699088     66.591398   \n",
       "0              NEW YORK CITY GEOGRAPHIC DISTRICT # 1  50.750000     67.710583   \n",
       "7              NEW YORK CITY GEOGRAPHIC DISTRICT # 8  50.917431     61.696275   \n",
       "2              NEW YORK CITY GEOGRAPHIC DISTRICT # 3  52.307692     74.990926   \n",
       "9              NEW YORK CITY GEOGRAPHIC DISTRICT #10  53.600000     74.672293   \n",
       "13             NEW YORK CITY GEOGRAPHIC DISTRICT #14  54.565217     72.852088   \n",
       "24             NEW YORK CITY GEOGRAPHIC DISTRICT #25  55.454545     77.744361   \n",
       "17             NEW YORK CITY GEOGRAPHIC DISTRICT #18  55.641026     63.697778   \n",
       "16             NEW YORK CITY GEOGRAPHIC DISTRICT #17  56.879433     73.936489   \n",
       "1              NEW YORK CITY GEOGRAPHIC DISTRICT # 2  57.682927     75.083220   \n",
       "10             NEW YORK CITY GEOGRAPHIC DISTRICT #11  57.850467     69.006560   \n",
       "18             NEW YORK CITY GEOGRAPHIC DISTRICT #19  57.910448     69.625000   \n",
       "26             NEW YORK CITY GEOGRAPHIC DISTRICT #27  58.400000     75.019547   \n",
       "28             NEW YORK CITY GEOGRAPHIC DISTRICT #29  58.947368     70.764925   \n",
       "20             NEW YORK CITY GEOGRAPHIC DISTRICT #21  59.305019     77.034773   \n",
       "4              NEW YORK CITY GEOGRAPHIC DISTRICT # 5  60.882353     71.764706   \n",
       "14             NEW YORK CITY GEOGRAPHIC DISTRICT #15  61.250000     68.194726   \n",
       "30             NEW YORK CITY GEOGRAPHIC DISTRICT #31  64.324324     82.006533   \n",
       "29             NEW YORK CITY GEOGRAPHIC DISTRICT #30  66.811594     82.425000   \n",
       "5              NEW YORK CITY GEOGRAPHIC DISTRICT # 6  67.387387     73.444640   \n",
       "12             NEW YORK CITY GEOGRAPHIC DISTRICT #13  70.895522     87.126259   \n",
       "19             NEW YORK CITY GEOGRAPHIC DISTRICT #20  71.326165     81.620888   \n",
       "3              NEW YORK CITY GEOGRAPHIC DISTRICT # 4  72.340426     85.389908   \n",
       "27             NEW YORK CITY GEOGRAPHIC DISTRICT #28  75.692308     87.330786   \n",
       "21             NEW YORK CITY GEOGRAPHIC DISTRICT #22  76.911765     88.232365   \n",
       "25             NEW YORK CITY GEOGRAPHIC DISTRICT #26  85.283019     90.295258   \n",
       "\n",
       "SUBGROUP_NAME   pct_diff  \n",
       "11             15.125112  \n",
       "22              6.173400  \n",
       "6              11.175324  \n",
       "15             11.601382  \n",
       "23             27.725628  \n",
       "31             15.896552  \n",
       "8              15.892310  \n",
       "0              16.960583  \n",
       "7              10.778844  \n",
       "2              22.683233  \n",
       "9              21.072293  \n",
       "13             18.286870  \n",
       "24             22.289815  \n",
       "17              8.056752  \n",
       "16             17.057056  \n",
       "1              17.400293  \n",
       "10             11.156093  \n",
       "18             11.714552  \n",
       "26             16.619547  \n",
       "28             11.817557  \n",
       "20             17.729753  \n",
       "4              10.882353  \n",
       "14              6.944726  \n",
       "30             17.682209  \n",
       "29             15.613406  \n",
       "5               6.057252  \n",
       "12             16.230736  \n",
       "19             10.294724  \n",
       "3              13.049483  \n",
       "27             11.638478  \n",
       "21             11.320600  \n",
       "25              5.012239  "
      ]
     },
     "execution_count": 57,
     "metadata": {},
     "output_type": "execute_result"
    }
   ],
   "source": [
    "proficiency_districts.sort_values(by='Homeless', ascending=True)"
   ]
  },
  {
   "cell_type": "code",
   "execution_count": 58,
   "metadata": {},
   "outputs": [
    {
     "data": {
      "image/png": "[encoded data removed]",
      "text/plain": [
       "<Figure size 720x720 with 1 Axes>"
      ]
     },
     "metadata": {
      "needs_background": "light"
     },
     "output_type": "display_data"
    }
   ],
   "source": [
    "proficiency_districts.sort_values(by='Homeless').plot(x='ENTITY_NAME',\n",
    "                                                          y=['Homeless', 'Not Homeless'],\n",
    "                                                          kind='barh',\n",
    "                                                          stacked=True,\n",
    "                                                          figsize=(10,10),\n",
    "                                                          title=\"Homeless High School Students\",\n",
    "                                                          width=0.8)\n",
    "plt.tight_layout()"
   ]
  },
  {
   "cell_type": "code",
   "execution_count": 59,
   "metadata": {},
   "outputs": [
    {
     "data": {
      "image/png": "[encoded data removed]",
      "text/plain": [
       "<Figure size 720x720 with 1 Axes>"
      ]
     },
     "metadata": {
      "needs_background": "light"
     },
     "output_type": "display_data"
    }
   ],
   "source": [
    "proficiency_districts.sort_values(by='pct_diff').plot(x='ENTITY_NAME',\n",
    "                                                          y=['pct_diff'],\n",
    "                                                          kind='barh',\n",
    "                                                          stacked=True,\n",
    "                                                          figsize=(10,10),\n",
    "                                                          title=\"Homeless High School Students\",\n",
    "                                                          width=0.8)\n",
    "plt.tight_layout()"
   ]
  },
  {
   "cell_type": "code",
   "execution_count": 132,
   "metadata": {},
   "outputs": [],
   "source": [
    "waffle = districts[(districts.district == 6) | (districts.district == 9) | (districts.district == 12) | (districts.district == 7) | (districts.district == 23)]"
   ]
  },
  {
   "cell_type": "code",
   "execution_count": 135,
   "metadata": {},
   "outputs": [
    {
     "data": {
      "text/html": [
       "<div>\n",
       "<style scoped>\n",
       "    .dataframe tbody tr th:only-of-type {\n",
       "        vertical-align: middle;\n",
       "    }\n",
       "\n",
       "    .dataframe tbody tr th {\n",
       "        vertical-align: top;\n",
       "    }\n",
       "\n",
       "    .dataframe thead th {\n",
       "        text-align: right;\n",
       "    }\n",
       "</style>\n",
       "<table border=\"1\" class=\"dataframe\">\n",
       "  <thead>\n",
       "    <tr style=\"text-align: right;\">\n",
       "      <th></th>\n",
       "      <th>district</th>\n",
       "      <th>sat_score</th>\n",
       "      <th>average_score_SAT_reading</th>\n",
       "      <th>average_score_SAT_math</th>\n",
       "      <th>asian_count</th>\n",
       "      <th>black_count</th>\n",
       "      <th>enrollment</th>\n",
       "      <th>hispanic_count</th>\n",
       "      <th>homeless_count</th>\n",
       "      <th>sat_math_college_ready_count</th>\n",
       "      <th>sat_reading_college_ready_count</th>\n",
       "      <th>white_count</th>\n",
       "      <th>pct_asian</th>\n",
       "      <th>pct_white</th>\n",
       "      <th>pct_black</th>\n",
       "      <th>pct_hispanic</th>\n",
       "      <th>pct_homeless</th>\n",
       "      <th>pct_college_ready_math_SAT</th>\n",
       "      <th>pct_college_ready_reading_SAT</th>\n",
       "      <th>pct_non_white</th>\n",
       "    </tr>\n",
       "  </thead>\n",
       "  <tbody>\n",
       "    <tr>\n",
       "      <th>5</th>\n",
       "      <td>6</td>\n",
       "      <td>901.050000</td>\n",
       "      <td>448.830000</td>\n",
       "      <td>452.220000</td>\n",
       "      <td>111.382</td>\n",
       "      <td>718.973</td>\n",
       "      <td>5327</td>\n",
       "      <td>4360.282</td>\n",
       "      <td>1147.090</td>\n",
       "      <td>1001.215</td>\n",
       "      <td>1772.339</td>\n",
       "      <td>89.870</td>\n",
       "      <td>2.090895</td>\n",
       "      <td>1.687066</td>\n",
       "      <td>13.496771</td>\n",
       "      <td>81.852487</td>\n",
       "      <td>21.533509</td>\n",
       "      <td>18.795100</td>\n",
       "      <td>33.270865</td>\n",
       "      <td>95.349258</td>\n",
       "    </tr>\n",
       "    <tr>\n",
       "      <th>6</th>\n",
       "      <td>7</td>\n",
       "      <td>882.885714</td>\n",
       "      <td>443.678571</td>\n",
       "      <td>439.207143</td>\n",
       "      <td>93.981</td>\n",
       "      <td>1612.146</td>\n",
       "      <td>6021</td>\n",
       "      <td>4134.204</td>\n",
       "      <td>1040.763</td>\n",
       "      <td>716.163</td>\n",
       "      <td>1554.872</td>\n",
       "      <td>90.644</td>\n",
       "      <td>1.560887</td>\n",
       "      <td>1.505464</td>\n",
       "      <td>26.775386</td>\n",
       "      <td>68.663079</td>\n",
       "      <td>17.285551</td>\n",
       "      <td>11.894420</td>\n",
       "      <td>25.824149</td>\n",
       "      <td>95.438465</td>\n",
       "    </tr>\n",
       "    <tr>\n",
       "      <th>8</th>\n",
       "      <td>9</td>\n",
       "      <td>895.386364</td>\n",
       "      <td>449.931818</td>\n",
       "      <td>445.454545</td>\n",
       "      <td>169.025</td>\n",
       "      <td>2130.905</td>\n",
       "      <td>7975</td>\n",
       "      <td>5462.407</td>\n",
       "      <td>1665.467</td>\n",
       "      <td>1178.807</td>\n",
       "      <td>2334.619</td>\n",
       "      <td>126.107</td>\n",
       "      <td>2.119436</td>\n",
       "      <td>1.581279</td>\n",
       "      <td>26.719812</td>\n",
       "      <td>68.494132</td>\n",
       "      <td>20.883599</td>\n",
       "      <td>14.781279</td>\n",
       "      <td>29.274219</td>\n",
       "      <td>95.213944</td>\n",
       "    </tr>\n",
       "    <tr>\n",
       "      <th>11</th>\n",
       "      <td>12</td>\n",
       "      <td>856.761538</td>\n",
       "      <td>429.576923</td>\n",
       "      <td>427.184615</td>\n",
       "      <td>121.996</td>\n",
       "      <td>1222.808</td>\n",
       "      <td>5043</td>\n",
       "      <td>3544.390</td>\n",
       "      <td>944.218</td>\n",
       "      <td>398.122</td>\n",
       "      <td>973.311</td>\n",
       "      <td>80.390</td>\n",
       "      <td>2.419116</td>\n",
       "      <td>1.594091</td>\n",
       "      <td>24.247630</td>\n",
       "      <td>70.283363</td>\n",
       "      <td>18.723339</td>\n",
       "      <td>7.894547</td>\n",
       "      <td>19.300238</td>\n",
       "      <td>94.530993</td>\n",
       "    </tr>\n",
       "    <tr>\n",
       "      <th>22</th>\n",
       "      <td>23</td>\n",
       "      <td>876.400000</td>\n",
       "      <td>443.375000</td>\n",
       "      <td>433.025000</td>\n",
       "      <td>14.085</td>\n",
       "      <td>802.975</td>\n",
       "      <td>940</td>\n",
       "      <td>105.930</td>\n",
       "      <td>161.150</td>\n",
       "      <td>98.143</td>\n",
       "      <td>265.005</td>\n",
       "      <td>6.947</td>\n",
       "      <td>1.498404</td>\n",
       "      <td>0.739043</td>\n",
       "      <td>85.422872</td>\n",
       "      <td>11.269149</td>\n",
       "      <td>17.143617</td>\n",
       "      <td>10.440745</td>\n",
       "      <td>28.192021</td>\n",
       "      <td>96.692021</td>\n",
       "    </tr>\n",
       "  </tbody>\n",
       "</table>\n",
       "</div>"
      ],
      "text/plain": [
       "    district   sat_score  average_score_SAT_reading  average_score_SAT_math  \\\n",
       "5          6  901.050000                 448.830000              452.220000   \n",
       "6          7  882.885714                 443.678571              439.207143   \n",
       "8          9  895.386364                 449.931818              445.454545   \n",
       "11        12  856.761538                 429.576923              427.184615   \n",
       "22        23  876.400000                 443.375000              433.025000   \n",
       "\n",
       "    asian_count  black_count  enrollment  hispanic_count  homeless_count  \\\n",
       "5       111.382      718.973        5327        4360.282        1147.090   \n",
       "6        93.981     1612.146        6021        4134.204        1040.763   \n",
       "8       169.025     2130.905        7975        5462.407        1665.467   \n",
       "11      121.996     1222.808        5043        3544.390         944.218   \n",
       "22       14.085      802.975         940         105.930         161.150   \n",
       "\n",
       "    sat_math_college_ready_count  sat_reading_college_ready_count  \\\n",
       "5                       1001.215                         1772.339   \n",
       "6                        716.163                         1554.872   \n",
       "8                       1178.807                         2334.619   \n",
       "11                       398.122                          973.311   \n",
       "22                        98.143                          265.005   \n",
       "\n",
       "    white_count  pct_asian  pct_white  pct_black  pct_hispanic  pct_homeless  \\\n",
       "5        89.870   2.090895   1.687066  13.496771     81.852487     21.533509   \n",
       "6        90.644   1.560887   1.505464  26.775386     68.663079     17.285551   \n",
       "8       126.107   2.119436   1.581279  26.719812     68.494132     20.883599   \n",
       "11       80.390   2.419116   1.594091  24.247630     70.283363     18.723339   \n",
       "22        6.947   1.498404   0.739043  85.422872     11.269149     17.143617   \n",
       "\n",
       "    pct_college_ready_math_SAT  pct_college_ready_reading_SAT  pct_non_white  \n",
       "5                    18.795100                      33.270865      95.349258  \n",
       "6                    11.894420                      25.824149      95.438465  \n",
       "8                    14.781279                      29.274219      95.213944  \n",
       "11                    7.894547                      19.300238      94.530993  \n",
       "22                   10.440745                      28.192021      96.692021  "
      ]
     },
     "execution_count": 135,
     "metadata": {},
     "output_type": "execute_result"
    }
   ],
   "source": [
    "waffle.head()"
   ]
  },
  {
   "cell_type": "code",
   "execution_count": 143,
   "metadata": {},
   "outputs": [
    {
     "data": {
      "text/plain": [
       "69.57722674464554"
      ]
     },
     "execution_count": 143,
     "metadata": {},
     "output_type": "execute_result"
    }
   ],
   "source": [
    "waffle.hispanic_count.sum() * 100 / waffle.enrollment.sum()"
   ]
  },
  {
   "cell_type": "code",
   "execution_count": 146,
   "metadata": {},
   "outputs": [],
   "source": [
    "waffle = pd.read_csv(\"top10.csv\")"
   ]
  },
  {
   "cell_type": "code",
   "execution_count": 210,
   "metadata": {},
   "outputs": [
    {
     "data": {
      "text/html": [
       "<div>\n",
       "<style scoped>\n",
       "    .dataframe tbody tr th:only-of-type {\n",
       "        vertical-align: middle;\n",
       "    }\n",
       "\n",
       "    .dataframe tbody tr th {\n",
       "        vertical-align: top;\n",
       "    }\n",
       "\n",
       "    .dataframe thead th {\n",
       "        text-align: right;\n",
       "    }\n",
       "</style>\n",
       "<table border=\"1\" class=\"dataframe\">\n",
       "  <thead>\n",
       "    <tr style=\"text-align: right;\">\n",
       "      <th></th>\n",
       "      <th>race</th>\n",
       "      <th>percent</th>\n",
       "    </tr>\n",
       "  </thead>\n",
       "  <tbody>\n",
       "    <tr>\n",
       "      <th>3</th>\n",
       "      <td>pct_hispanic</td>\n",
       "      <td>70</td>\n",
       "    </tr>\n",
       "    <tr>\n",
       "      <th>2</th>\n",
       "      <td>pct_black</td>\n",
       "      <td>26</td>\n",
       "    </tr>\n",
       "    <tr>\n",
       "      <th>0</th>\n",
       "      <td>pct_asian</td>\n",
       "      <td>2</td>\n",
       "    </tr>\n",
       "    <tr>\n",
       "      <th>1</th>\n",
       "      <td>pct_white</td>\n",
       "      <td>2</td>\n",
       "    </tr>\n",
       "  </tbody>\n",
       "</table>\n",
       "</div>"
      ],
      "text/plain": [
       "           race  percent\n",
       "3  pct_hispanic       70\n",
       "2     pct_black       26\n",
       "0     pct_asian        2\n",
       "1     pct_white        2"
      ]
     },
     "execution_count": 210,
     "metadata": {},
     "output_type": "execute_result"
    }
   ],
   "source": [
    "waffle.head()"
   ]
  },
  {
   "cell_type": "code",
   "execution_count": 153,
   "metadata": {},
   "outputs": [],
   "source": [
    "waffle = waffle.sort_values(by='percent', ascending=False)"
   ]
  },
  {
   "cell_type": "code",
   "execution_count": 262,
   "metadata": {},
   "outputs": [
    {
     "data": {
      "image/png": "[encoded data removed]",
      "text/plain": [
       "<Waffle size 936x720 with 1 Axes>"
      ]
     },
     "metadata": {
      "needs_background": "light"
     },
     "output_type": "display_data"
    }
   ],
   "source": [
    "matplotlib.rcParams['pdf.fonttype'] = 42 #makes text editable in illustrator\n",
    "%matplotlib inline\n",
    "fig = plt.figure(\n",
    "    FigureClass=Waffle, \n",
    "    rows=5,\n",
    "    colors=(\"#82C0C2\", \"#FFB4C0\", \"#FFEDAF\", \"#FEB87F\"),\n",
    "    title={'label': \"Districts With Highest Homelessness Rate\", \"loc\": \"left\"},\n",
    "    values=waffle.percent,\n",
    "    labels=list(waffle.race),\n",
    "    figsize=(13, 10),\n",
    "#     icons='circle',\n",
    "    font_size=32,\n",
    "    legend={'loc': 'upper left', 'bbox_to_anchor': (1.1, 1)}\n",
    ")\n",
    "plt.tight_layout()\n",
    "plt.savefig(\"top5.pdf\")\n"
   ]
  },
  {
   "cell_type": "code",
   "execution_count": 201,
   "metadata": {},
   "outputs": [],
   "source": [
    "waffle2 = districts[(districts.district == 31) | (districts.district == 26) | (districts.district == 28) | (districts.district == 22) | (districts.district == 13)]"
   ]
  },
  {
   "cell_type": "code",
   "execution_count": 214,
   "metadata": {},
   "outputs": [
    {
     "data": {
      "text/plain": [
       "25.401773596088308"
      ]
     },
     "execution_count": 214,
     "metadata": {},
     "output_type": "execute_result"
    }
   ],
   "source": [
    "waffle2.white_count.sum() * 100 / waffle2.enrollment.sum()"
   ]
  },
  {
   "cell_type": "code",
   "execution_count": 246,
   "metadata": {},
   "outputs": [],
   "source": [
    "waffle2 = pd.read_excel(\"low10.xlsx\")"
   ]
  },
  {
   "cell_type": "code",
   "execution_count": 247,
   "metadata": {},
   "outputs": [],
   "source": [
    "waffle2 = waffle2.sort_values(by='percent', ascending=False)"
   ]
  },
  {
   "cell_type": "code",
   "execution_count": 263,
   "metadata": {},
   "outputs": [
    {
     "data": {
      "image/png": "[encoded data removed]",
      "text/plain": [
       "<Waffle size 936x720 with 1 Axes>"
      ]
     },
     "metadata": {
      "needs_background": "light"
     },
     "output_type": "display_data"
    }
   ],
   "source": [
    "matplotlib.rcParams['pdf.fonttype'] = 42 #makes text editable in illustrator\n",
    "%matplotlib inline\n",
    "fig = plt.figure(\n",
    "    FigureClass=Waffle, \n",
    "    rows=5,\n",
    "    colors=(\"#FEB87F\", \"#FFEDAF\", \"#FFB4C0\", \"#82C0C2\", '#cccccc'),\n",
    "    title={'label': \"Districts With Lowest Homelessness Rate\", \"loc\": \"left\"},\n",
    "    values=waffle2.percent,\n",
    "    labels=list(waffle2.race),\n",
    "    figsize=(13, 10),\n",
    "    font_size=32,\n",
    "    legend={'loc': 'upper left', 'bbox_to_anchor': (1.1, 1)}\n",
    ")\n",
    "plt.tight_layout()\n",
    "plt.savefig(\"low5.pdf\")\n"
   ]
  },
  {
   "cell_type": "code",
   "execution_count": null,
   "metadata": {},
   "outputs": [],
   "source": []
  }
 ],
 "metadata": {
  "kernelspec": {
   "display_name": "Python 3",
   "language": "python",
   "name": "python3"
  },
  "language_info": {
   "codemirror_mode": {
    "name": "ipython",
    "version": 3
   },
   "file_extension": ".py",
   "mimetype": "text/x-python",
   "name": "python",
   "nbconvert_exporter": "python",
   "pygments_lexer": "ipython3",
   "version": "3.7.5"
  }
 },
 "nbformat": 4,
 "nbformat_minor": 2
}
